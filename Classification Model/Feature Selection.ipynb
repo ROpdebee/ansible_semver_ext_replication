{
 "cells": [
  {
   "cell_type": "markdown",
   "id": "engaging-dream",
   "metadata": {},
   "source": [
    "### Loading libraries"
   ]
  },
  {
   "cell_type": "code",
   "execution_count": 1,
   "id": "junior-madonna",
   "metadata": {},
   "outputs": [],
   "source": [
    "import pickle\n",
    "import warnings\n",
    "import numpy as np\n",
    "import pandas as pd\n",
    "import seaborn as sns\n",
    "import matplotlib.pyplot as plt\n",
    "from sklearn.ensemble import RandomForestClassifier\n",
    "\n",
    "from sklearn.feature_selection import RFECV, RFE\n",
    "from sklearn.model_selection import StratifiedKFold, cross_val_score\n",
    "from sklearn.metrics import precision_score, recall_score, accuracy_score, confusion_matrix"
   ]
  },
  {
   "cell_type": "markdown",
   "id": "registered-relevance",
   "metadata": {},
   "source": [
    "### Loading data"
   ]
  },
  {
   "cell_type": "code",
   "execution_count": 2,
   "id": "applicable-detroit",
   "metadata": {},
   "outputs": [],
   "source": [
    "dataframe = pd.read_csv(\"data/new_data/old_records.csv.gz\")"
   ]
  },
  {
   "cell_type": "markdown",
   "id": "powerful-tackle",
   "metadata": {},
   "source": [
    "### Checking null values"
   ]
  },
  {
   "cell_type": "code",
   "execution_count": 3,
   "id": "saved-highland",
   "metadata": {},
   "outputs": [
    {
     "name": "stdout",
     "output_type": "stream",
     "text": [
      "Validity of the data:\n",
      "0 out of 71722 contains at least one null value representing 0.0 % of the instances\n"
     ]
    }
   ],
   "source": [
    "data_null_values = dataframe[dataframe.isna().any(axis=1)]\n",
    "len_null = len(data_null_values)\n",
    "len_data = len(dataframe)\n",
    "\n",
    "# Print message\n",
    "print(\"Validity of the data:\")\n",
    "print(f\"{len_null} out of {len_data} contains at least one null value\", end=\" \")\n",
    "print(f\"representing {len_null / len_data} % of the instances\")\n",
    "\n",
    "filtered_data = dataframe.drop(['id', 'v1', 'v2'], axis=1)"
   ]
  },
  {
   "cell_type": "markdown",
   "id": "younger-intellectual",
   "metadata": {},
   "source": [
    "### Correlation analysis"
   ]
  },
  {
   "cell_type": "code",
   "execution_count": 4,
   "id": "atlantic-australian",
   "metadata": {},
   "outputs": [
    {
     "name": "stdout",
     "output_type": "stream",
     "text": [
      "\n",
      "Most correlated features:\n",
      "TaskEdit              TaskRelocation          0.733124\n",
      "TaskRelocation        TaskEdit                0.733124\n",
      "HandlerTaskAddition   HandlerBlockAddition    0.752078\n",
      "HandlerBlockAddition  HandlerTaskAddition     0.752078\n",
      "BlockAddition         TaskAddition            0.762167\n",
      "TaskAddition          BlockAddition           0.762167\n",
      "TaskFileAddition      BlockAddition           0.764727\n",
      "BlockAddition         TaskFileAddition        0.764727\n",
      "BlockRemoval          TaskFileRemoval         0.790119\n",
      "TaskFileRemoval       BlockRemoval            0.790119\n",
      "dtype: float64\n"
     ]
    }
   ],
   "source": [
    "correlation_matrix = filtered_data.corr()\n",
    "unstacked_correlation_matrix = correlation_matrix.unstack()\n",
    "sorted_values = unstacked_correlation_matrix.sort_values(kind=\"quicksort\")\n",
    "\n",
    "# Most correlated features excluding comparison between the same features\n",
    "print()\n",
    "print(\"Most correlated features:\")\n",
    "print(sorted_values[1630:1640])"
   ]
  },
  {
   "cell_type": "markdown",
   "id": "first-crisis",
   "metadata": {},
   "source": [
    "### Transforming data into Numpy arrays"
   ]
  },
  {
   "cell_type": "code",
   "execution_count": 5,
   "id": "weird-background",
   "metadata": {},
   "outputs": [
    {
     "name": "stdout",
     "output_type": "stream",
     "text": [
      "\n",
      "Shapes of the data:\n",
      "(71722, 41)\n",
      "(71722,)\n"
     ]
    }
   ],
   "source": [
    "to_transform = {\"release\": {\"patch\": 0, \"minor\": 1, \"major\": 2}}\n",
    "filtered_data.replace(to_transform, inplace=True)\n",
    "\n",
    "X = filtered_data[filtered_data.columns[:-1]].to_numpy()\n",
    "y = filtered_data[filtered_data.columns[-1]].to_numpy()\n",
    "\n",
    "# Print shapes\n",
    "print()\n",
    "print(\"Shapes of the data:\")\n",
    "print(X.shape)\n",
    "print(y.shape)"
   ]
  },
  {
   "cell_type": "markdown",
   "id": "enabling-government",
   "metadata": {},
   "source": [
    "### Configuring classifier"
   ]
  },
  {
   "cell_type": "code",
   "execution_count": 6,
   "id": "super-constitutional",
   "metadata": {},
   "outputs": [],
   "source": [
    "clf = RandomForestClassifier(n_jobs=8)"
   ]
  },
  {
   "cell_type": "markdown",
   "id": "familiar-grass",
   "metadata": {},
   "source": [
    "### All feature weights"
   ]
  },
  {
   "cell_type": "code",
   "execution_count": 7,
   "id": "controversial-latvia",
   "metadata": {},
   "outputs": [
    {
     "name": "stdout",
     "output_type": "stream",
     "text": [
      "Weights of the features:\n",
      "BlockAddition --> 0.04079927819963627\n",
      "BlockEdit --> 0.006757660056284679\n",
      "BlockRelocation --> 0.007106680480522672\n",
      "BlockRemoval --> 0.023472544800970357\n",
      "RoleVariableAddition --> 0.04403860545855521\n",
      "RoleVariableEdit --> 0.03387128184208607\n",
      "RoleVariableRelocation --> 0.001765464722767463\n",
      "RoleVariableRemoval --> 0.020371089689186498\n",
      "RoleVarFileAddition --> 0.016124686223035624\n",
      "RoleVarFileRelocation --> 0.003827046973491953\n",
      "RoleVarFileRemoval --> 0.007842588134052883\n",
      "DefaultVariableAddition --> 0.12277418658302694\n",
      "DefaultVariableEdit --> 0.04928946666031486\n",
      "DefaultVariableRelocation --> 0.0002572836387056643\n",
      "DefaultVariableRemoval --> 0.042280091253386054\n",
      "DefaultVarFileAddition --> 0.0055245663476297365\n",
      "DefaultVarFileRelocation --> 0.000390875459968689\n",
      "DefaultVarFileRemoval --> 0.0018337240454194994\n",
      "DependencyAddition --> 0.008513141125612725\n",
      "DependencyRemoval --> 0.007132454063582705\n",
      "HandlerBlockAddition --> 0.004615282337731415\n",
      "HandlerBlockEdit --> 8.483940519100502e-06\n",
      "HandlerBlockRelocation --> 9.974964359404106e-06\n",
      "HandlerBlockRemoval --> 0.003448369138644475\n",
      "HandlerTaskAddition --> 0.007315474826906509\n",
      "HandlerTaskEdit --> 0.019456073180894366\n",
      "HandlerTaskRelocation --> 0.004568082944364399\n",
      "HandlerTaskRemoval --> 0.002760288838927891\n",
      "HandlerFileAddition --> 0.003025753754790965\n",
      "HandlerFileRelocation --> 8.295341317686675e-06\n",
      "HandlerFileRemoval --> 0.0024864508993951697\n",
      "MetaEdit --> 0.032873139744842815\n",
      "PlatformAddition --> 0.0408250124707706\n",
      "PlatformRemoval --> 0.024660263673077904\n",
      "TaskAddition --> 0.09770002914028557\n",
      "TaskEdit --> 0.12918290165521165\n",
      "TaskRelocation --> 0.10252139812658527\n",
      "TaskRemoval --> 0.044057317783494886\n",
      "TaskFileAddition --> 0.024178366505557443\n",
      "TaskFileRelocation --> 0.0031501701821303836\n",
      "TaskFileRemoval --> 0.009176154791955597\n"
     ]
    }
   ],
   "source": [
    "clf2 = RandomForestClassifier(n_jobs=8)\n",
    "feature_importances = np.zeros(X.shape[1])\n",
    "\n",
    "for i, (train, test) in enumerate(StratifiedKFold(n_splits=10).split(X, y)):\n",
    "    clf2.fit(X[train], y[train])\n",
    "    feature_importances += clf2.feature_importances_\n",
    "\n",
    "print(\"Weights of the features:\")\n",
    "feature_importances /= 10\n",
    "\n",
    "for feature_name, feature_weight in zip(filtered_data.columns[:-1], feature_importances):\n",
    "    print(feature_name, \"-->\", feature_weight)"
   ]
  },
  {
   "cell_type": "markdown",
   "id": "spread-munich",
   "metadata": {},
   "source": [
    "### Feature selection"
   ]
  },
  {
   "cell_type": "code",
   "execution_count": 8,
   "id": "accepting-obligation",
   "metadata": {},
   "outputs": [
    {
     "name": "stdout",
     "output_type": "stream",
     "text": [
      "\n",
      "Optimal number of features : 37\n",
      "\n",
      "Original Features on Data:  ['BlockAddition', 'BlockEdit', 'BlockRelocation', 'BlockRemoval', 'RoleVariableAddition', 'RoleVariableEdit', 'RoleVariableRelocation', 'RoleVariableRemoval', 'RoleVarFileAddition', 'RoleVarFileRelocation', 'RoleVarFileRemoval', 'DefaultVariableAddition', 'DefaultVariableEdit', 'DefaultVariableRelocation', 'DefaultVariableRemoval', 'DefaultVarFileAddition', 'DefaultVarFileRelocation', 'DefaultVarFileRemoval', 'DependencyAddition', 'DependencyRemoval', 'HandlerBlockAddition', 'HandlerBlockEdit', 'HandlerBlockRelocation', 'HandlerBlockRemoval', 'HandlerTaskAddition', 'HandlerTaskEdit', 'HandlerTaskRelocation', 'HandlerTaskRemoval', 'HandlerFileAddition', 'HandlerFileRelocation', 'HandlerFileRemoval', 'MetaEdit', 'PlatformAddition', 'PlatformRemoval', 'TaskAddition', 'TaskEdit', 'TaskRelocation', 'TaskRemoval', 'TaskFileAddition', 'TaskFileRelocation', 'TaskFileRemoval']\n",
      "Ranking of Features:  [1 1 1 1 1 1 1 1 1 1 1 1 1 2 1 1 1 1 1 1 1 4 3 1 1 1 1 1 1 5 1 1 1 1 1 1 1\n",
      " 1 1 1 1]\n",
      "Selected Features:  ['BlockAddition', 'BlockEdit', 'BlockRelocation', 'BlockRemoval', 'RoleVariableAddition', 'RoleVariableEdit', 'RoleVariableRelocation', 'RoleVariableRemoval', 'RoleVarFileAddition', 'RoleVarFileRelocation', 'RoleVarFileRemoval', 'DefaultVariableAddition', 'DefaultVariableEdit', 'DefaultVariableRemoval', 'DefaultVarFileAddition', 'DefaultVarFileRelocation', 'DefaultVarFileRemoval', 'DependencyAddition', 'DependencyRemoval', 'HandlerBlockAddition', 'HandlerBlockRemoval', 'HandlerTaskAddition', 'HandlerTaskEdit', 'HandlerTaskRelocation', 'HandlerTaskRemoval', 'HandlerFileAddition', 'HandlerFileRemoval', 'MetaEdit', 'PlatformAddition', 'PlatformRemoval', 'TaskAddition', 'TaskEdit', 'TaskRelocation', 'TaskRemoval', 'TaskFileAddition', 'TaskFileRelocation', 'TaskFileRemoval']\n",
      "Discarded Features:  ['HandlerBlockEdit', 'HandlerFileRelocation', 'HandlerBlockRelocation', 'DefaultVariableRelocation']\n"
     ]
    }
   ],
   "source": [
    "rfecv = RFECV(estimator=clf, step=1, cv=StratifiedKFold(10), scoring='f1_macro')\n",
    "X_new = rfecv.fit_transform(X, y)\n",
    "\n",
    "print()\n",
    "print(\"Optimal number of features : %d\" % rfecv.n_features_)\n",
    "\n",
    "column_names = filtered_data.columns[:-1].tolist()\n",
    "selected_features = list()\n",
    "\n",
    "for i, value in enumerate(rfecv.support_):\n",
    "    if value:\n",
    "        selected_features.append(column_names[i])\n",
    "\n",
    "print()\n",
    "print(\"Original Features on Data: \", column_names)\n",
    "print(\"Ranking of Features: \", rfecv.ranking_)\n",
    "print(\"Selected Features: \", selected_features)\n",
    "\n",
    "discarded_features = list(set(column_names).difference(set(selected_features)))\n",
    "print(\"Discarded Features: \", discarded_features)"
   ]
  },
  {
   "cell_type": "code",
   "execution_count": 20,
   "id": "taken-contribution",
   "metadata": {},
   "outputs": [
    {
     "name": "stdout",
     "output_type": "stream",
     "text": [
      "BlockAddition 1\n",
      "BlockEdit 1\n",
      "BlockRelocation 1\n",
      "BlockRemoval 1\n",
      "RoleVariableAddition 1\n",
      "RoleVariableEdit 1\n",
      "RoleVariableRelocation 1\n",
      "RoleVariableRemoval 1\n",
      "RoleVarFileAddition 1\n",
      "RoleVarFileRelocation 1\n",
      "RoleVarFileRemoval 1\n",
      "DefaultVariableAddition 1\n",
      "DefaultVariableEdit 1\n",
      "DefaultVariableRelocation 2\n",
      "DefaultVariableRemoval 1\n",
      "DefaultVarFileAddition 1\n",
      "DefaultVarFileRelocation 1\n",
      "DefaultVarFileRemoval 1\n",
      "DependencyAddition 1\n",
      "DependencyRemoval 1\n",
      "HandlerBlockAddition 1\n",
      "HandlerBlockEdit 4\n",
      "HandlerBlockRelocation 3\n",
      "HandlerBlockRemoval 1\n",
      "HandlerTaskAddition 1\n",
      "HandlerTaskEdit 1\n",
      "HandlerTaskRelocation 1\n",
      "HandlerTaskRemoval 1\n",
      "HandlerFileAddition 1\n",
      "HandlerFileRelocation 5\n",
      "HandlerFileRemoval 1\n",
      "MetaEdit 1\n",
      "PlatformAddition 1\n",
      "PlatformRemoval 1\n",
      "TaskAddition 1\n",
      "TaskEdit 1\n",
      "TaskRelocation 1\n",
      "TaskRemoval 1\n",
      "TaskFileAddition 1\n",
      "TaskFileRelocation 1\n",
      "TaskFileRemoval 1\n"
     ]
    }
   ],
   "source": [
    "for feature_name, ranking in zip(column_names, rfecv.ranking_):\n",
    "    print(feature_name, ranking)"
   ]
  },
  {
   "cell_type": "markdown",
   "id": "structural-physiology",
   "metadata": {},
   "source": [
    "### Stratified Training"
   ]
  },
  {
   "cell_type": "code",
   "execution_count": 9,
   "id": "motivated-transformation",
   "metadata": {},
   "outputs": [
    {
     "name": "stdout",
     "output_type": "stream",
     "text": [
      "\n",
      "Mean of Precisions:  0.7265540195231619\n",
      "Mean of Recalls:  0.5586017902857003\n",
      "Confusion matrix:\n",
      "[[49880  3125   232]\n",
      " [ 8670  6370   175]\n",
      " [ 1626   597  1047]]\n"
     ]
    }
   ],
   "source": [
    "cv = StratifiedKFold(n_splits=10)\n",
    "\n",
    "X = X_new\n",
    "\n",
    "precision_scores = list()\n",
    "recall_scores = list()\n",
    "confusion_matrices = list()\n",
    "\n",
    "for i, (train, test) in enumerate(cv.split(X, y)):\n",
    "    clf.fit(X[train], y[train])\n",
    "    y_predict = clf.predict(X[test])\n",
    "\n",
    "    precision_value = precision_score(y[test], y_predict, average=\"macro\")\n",
    "    recall_value = recall_score(y[test], y_predict, average=\"macro\")\n",
    "    conf_matrix = confusion_matrix(y[test], y_predict)\n",
    "\n",
    "    precision_scores.append(precision_value)\n",
    "    recall_scores.append(recall_value)\n",
    "    confusion_matrices.append(conf_matrix)\n",
    "\n",
    "print()\n",
    "print(\"Mean of Precisions: \", np.mean(precision_scores))\n",
    "print(\"Mean of Recalls: \", np.mean(recall_scores))\n",
    "\n",
    "print(\"Confusion matrix:\")\n",
    "print(sum(confusion_matrices))"
   ]
  },
  {
   "cell_type": "markdown",
   "id": "typical-compact",
   "metadata": {},
   "source": [
    "### Saving"
   ]
  },
  {
   "cell_type": "code",
   "execution_count": 10,
   "id": "given-divide",
   "metadata": {},
   "outputs": [],
   "source": [
    "# Model\n",
    "pickle.dump(clf, open(\"data/models/randomForest_old_no_balance.pickle\", \"wb\"))"
   ]
  }
 ],
 "metadata": {
  "kernelspec": {
   "display_name": "Python 3",
   "language": "python",
   "name": "python3"
  },
  "language_info": {
   "codemirror_mode": {
    "name": "ipython",
    "version": 3
   },
   "file_extension": ".py",
   "mimetype": "text/x-python",
   "name": "python",
   "nbconvert_exporter": "python",
   "pygments_lexer": "ipython3",
   "version": "3.8.6"
  }
 },
 "nbformat": 4,
 "nbformat_minor": 5
}
