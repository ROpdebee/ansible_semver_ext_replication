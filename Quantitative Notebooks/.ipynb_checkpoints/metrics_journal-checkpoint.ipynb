{
 "cells": [
  {
   "cell_type": "code",
   "execution_count": 47,
   "metadata": {},
   "outputs": [],
   "source": [
    "%matplotlib inline\n",
    "from imports import *\n",
    "font = {'family' : 'Times New Roman',\n",
    "        'weight' : 'bold',\n",
    "        'size'   : 16}\n",
    "plt.rc('font', **font)\n",
    "order = ['node','Python','Ruby']\n",
    "d = {'python':'Python','ruby':'Ruby'}\n",
    "import effect_size\n",
    "from tqdm.notebook import tqdm\n",
    "from datetime import datetime\n",
    "plt.rcParams['text.usetex'] = True"
   ]
  },
  {
   "cell_type": "markdown",
   "metadata": {},
   "source": [
    "# LOAD DATA"
   ]
  },
  {
   "cell_type": "code",
   "execution_count": 48,
   "metadata": {},
   "outputs": [
    {
     "data": {
      "text/html": [
       "<div>\n",
       "<style scoped>\n",
       "    .dataframe tbody tr th:only-of-type {\n",
       "        vertical-align: middle;\n",
       "    }\n",
       "\n",
       "    .dataframe tbody tr th {\n",
       "        vertical-align: top;\n",
       "    }\n",
       "\n",
       "    .dataframe thead th {\n",
       "        text-align: right;\n",
       "    }\n",
       "</style>\n",
       "<table border=\"1\" class=\"dataframe\">\n",
       "  <thead>\n",
       "    <tr style=\"text-align: right;\">\n",
       "      <th></th>\n",
       "      <th>id</th>\n",
       "      <th>v1</th>\n",
       "      <th>v2</th>\n",
       "      <th>BlockAddition</th>\n",
       "      <th>BlockEdit</th>\n",
       "      <th>BlockRelocation</th>\n",
       "      <th>BlockRemoval</th>\n",
       "      <th>RoleVariableAddition</th>\n",
       "      <th>RoleVariableEdit</th>\n",
       "      <th>RoleVariableRelocation</th>\n",
       "      <th>...</th>\n",
       "      <th>MetaEdit</th>\n",
       "      <th>PlatformAddition</th>\n",
       "      <th>PlatformRemoval</th>\n",
       "      <th>TaskAddition</th>\n",
       "      <th>TaskEdit</th>\n",
       "      <th>TaskRelocation</th>\n",
       "      <th>TaskRemoval</th>\n",
       "      <th>TaskFileAddition</th>\n",
       "      <th>TaskFileRelocation</th>\n",
       "      <th>TaskFileRemoval</th>\n",
       "    </tr>\n",
       "  </thead>\n",
       "  <tbody>\n",
       "    <tr>\n",
       "      <th>0</th>\n",
       "      <td>030.ansible_bfg</td>\n",
       "      <td>1.0.0</td>\n",
       "      <td>1.0.1</td>\n",
       "      <td>0</td>\n",
       "      <td>0</td>\n",
       "      <td>0</td>\n",
       "      <td>0</td>\n",
       "      <td>0</td>\n",
       "      <td>0</td>\n",
       "      <td>0</td>\n",
       "      <td>...</td>\n",
       "      <td>0</td>\n",
       "      <td>0</td>\n",
       "      <td>0</td>\n",
       "      <td>0</td>\n",
       "      <td>1</td>\n",
       "      <td>0</td>\n",
       "      <td>0</td>\n",
       "      <td>0</td>\n",
       "      <td>0</td>\n",
       "      <td>0</td>\n",
       "    </tr>\n",
       "    <tr>\n",
       "      <th>1</th>\n",
       "      <td>030.ansible_eksctl</td>\n",
       "      <td>1.0.0</td>\n",
       "      <td>1.0.1</td>\n",
       "      <td>0</td>\n",
       "      <td>0</td>\n",
       "      <td>0</td>\n",
       "      <td>0</td>\n",
       "      <td>0</td>\n",
       "      <td>0</td>\n",
       "      <td>0</td>\n",
       "      <td>...</td>\n",
       "      <td>0</td>\n",
       "      <td>0</td>\n",
       "      <td>0</td>\n",
       "      <td>0</td>\n",
       "      <td>1</td>\n",
       "      <td>0</td>\n",
       "      <td>0</td>\n",
       "      <td>0</td>\n",
       "      <td>0</td>\n",
       "      <td>0</td>\n",
       "    </tr>\n",
       "  </tbody>\n",
       "</table>\n",
       "<p>2 rows × 44 columns</p>\n",
       "</div>"
      ],
      "text/plain": [
       "                   id     v1     v2  BlockAddition  BlockEdit  \\\n",
       "0     030.ansible_bfg  1.0.0  1.0.1              0          0   \n",
       "1  030.ansible_eksctl  1.0.0  1.0.1              0          0   \n",
       "\n",
       "   BlockRelocation  BlockRemoval  RoleVariableAddition  RoleVariableEdit  \\\n",
       "0                0             0                     0                 0   \n",
       "1                0             0                     0                 0   \n",
       "\n",
       "   RoleVariableRelocation  ...  MetaEdit  PlatformAddition  PlatformRemoval  \\\n",
       "0                       0  ...         0                 0                0   \n",
       "1                       0  ...         0                 0                0   \n",
       "\n",
       "   TaskAddition  TaskEdit  TaskRelocation  TaskRemoval  TaskFileAddition  \\\n",
       "0             0         1               0            0                 0   \n",
       "1             0         1               0            0                 0   \n",
       "\n",
       "   TaskFileRelocation  TaskFileRemoval  \n",
       "0                   0                0  \n",
       "1                   0                0  \n",
       "\n",
       "[2 rows x 44 columns]"
      ]
     },
     "execution_count": 48,
     "metadata": {},
     "output_type": "execute_result"
    }
   ],
   "source": [
    "diffs = pd.read_csv('../data/diff_metrics.csv.gz')\n",
    "diffs.head(2)"
   ]
  },
  {
   "cell_type": "code",
   "execution_count": 49,
   "metadata": {},
   "outputs": [
    {
     "data": {
      "text/plain": [
       "8861"
      ]
     },
     "execution_count": 49,
     "metadata": {},
     "output_type": "execute_result"
    }
   ],
   "source": [
    "diffs.id.unique().size"
   ]
  },
  {
   "cell_type": "code",
   "execution_count": 50,
   "metadata": {},
   "outputs": [
    {
     "data": {
      "text/plain": [
       "1272"
      ]
     },
     "execution_count": 50,
     "metadata": {},
     "output_type": "execute_result"
    }
   ],
   "source": [
    "diffs.DependencyAddition.sum()"
   ]
  },
  {
   "cell_type": "markdown",
   "metadata": {},
   "source": [
    "# Preparation"
   ]
  },
  {
   "cell_type": "code",
   "execution_count": 51,
   "metadata": {},
   "outputs": [],
   "source": [
    "diffs['v1'] = diffs['v1'].apply(lambda d: d.replace('v',''))\n",
    "diffs['v2'] = diffs['v2'].apply(lambda d: d.replace('v',''))"
   ]
  },
  {
   "cell_type": "code",
   "execution_count": 53,
   "metadata": {},
   "outputs": [
    {
     "data": {
      "text/plain": [
       "89568"
      ]
     },
     "execution_count": 53,
     "metadata": {},
     "output_type": "execute_result"
    }
   ],
   "source": [
    "len(diffs)"
   ]
  },
  {
   "cell_type": "code",
   "execution_count": 54,
   "metadata": {},
   "outputs": [],
   "source": [
    "RE_SEMVER = r'^(?:v|V)?(?P<v_major>\\d+)\\.(?P<v_minor>\\d+)\\.(?P<v_patch>\\d+)(?P<v_misc>.*)$'\n",
    "def comply_semver(series_of_releases):\n",
    "    extracted = series_of_releases.str.extract(RE_SEMVER, expand=True)\n",
    "    return (\n",
    "        extracted\n",
    "        [['v_major', 'v_minor', 'v_patch']]\n",
    "        .astype('str')\n",
    "        .assign(Semver=lambda d: d['v_major'] + '.' + d['v_minor'] + '.' + d['v_patch'])\n",
    "        ['Semver']\n",
    "    )"
   ]
  },
  {
   "cell_type": "code",
   "execution_count": 55,
   "metadata": {},
   "outputs": [],
   "source": [
    "diffs['fromm'] = comply_semver(diffs['v1'])\n",
    "diffs['tot'] = comply_semver(diffs['v2'])"
   ]
  },
  {
   "cell_type": "code",
   "execution_count": 56,
   "metadata": {},
   "outputs": [],
   "source": [
    "def type_release(v2,fromm,tot):\n",
    "\n",
    "    if v2 == \"HEAD\":\n",
    "        return 'head'\n",
    "    fromm=fromm.split('.')\n",
    "    tot=tot.split('.')\n",
    "    \n",
    "    if fromm[-1] == 'nan' or tot[-1] == \"nan\":\n",
    "        return 'notSemver'\n",
    "    if fromm[0]!=tot[0]:\n",
    "        return 'major'\n",
    "    if fromm[1]!=tot[1]:\n",
    "        return 'minor'\n",
    "    if fromm[2]!=tot[2]:\n",
    "        return 'patch'\n",
    "    return 'pre'\n",
    "\n",
    "diffs['release'] = diffs.apply(lambda d: type_release(d['v2'], d['fromm'], d['tot']), axis=1)"
   ]
  },
  {
   "cell_type": "code",
   "execution_count": 57,
   "metadata": {},
   "outputs": [
    {
     "data": {
      "text/plain": [
       "array(['patch', 'minor', 'major', 'pre'], dtype=object)"
      ]
     },
     "execution_count": 57,
     "metadata": {},
     "output_type": "execute_result"
    }
   ],
   "source": [
    "diffs.release.unique()"
   ]
  },
  {
   "cell_type": "code",
   "execution_count": 58,
   "metadata": {},
   "outputs": [],
   "source": [
    "diffs = diffs.query('release != \"notSemver\" and release != \"pre\"')\n",
    "diffs.fromm = diffs.fromm.replace({'nan.nan.nan':'first commit'})"
   ]
  },
  {
   "cell_type": "code",
   "execution_count": 59,
   "metadata": {},
   "outputs": [],
   "source": [
    "df_melted = (pd.melt(diffs.drop(['fromm','tot'], axis=1),\n",
    "                     id_vars=['id','v1','v2','release'],\n",
    "                     value_vars=diffs.drop(['id','v1','v2','fromm','tot','release'], axis=1).columns.tolist()\n",
    "                    )\n",
    "            )"
   ]
  },
  {
   "cell_type": "markdown",
   "metadata": {},
   "source": [
    "## Let's check the number of changes that happend for each release type"
   ]
  },
  {
   "cell_type": "code",
   "execution_count": 61,
   "metadata": {
    "scrolled": false
   },
   "outputs": [
    {
     "data": {
      "image/png": "[encoded data removed]",
      "text/plain": [
       "<Figure size 648x2160 with 9 Axes>"
      ]
     },
     "metadata": {
      "needs_background": "light"
     },
     "output_type": "display_data"
    }
   ],
   "source": [
    "cols= diffs.drop(['id','v1','v2','fromm','tot','release'], axis=1).columns.tolist()\n",
    "cols = ['TaskRemoval','TaskRelocation','TaskEdit','TaskAddition','MetaEdit','DefaultVariableEdit','BlockAddition','BlockAddition', 'BlockRemoval']\n",
    "fig, axes = plt.subplots(len(cols), 1, sharex=False, sharey=False)\n",
    "fig.set_size_inches(9,30)\n",
    "\n",
    "for i, var in enumerate(cols):\n",
    "    df_tmp = df_melted.query('variable ==\"'+var+'\"')\n",
    "    ax = sns.boxplot(x=\"release\", \n",
    "                     y=\"value\", \n",
    "                     order = ['major','minor','patch'],\n",
    "                     data=df_tmp, \n",
    "                     ax=axes[i],\n",
    "                     showfliers=False,\n",
    "                     linewidth=1)\n",
    "    ax.set_ylabel(var)\n",
    "    ax.set_xlabel('')"
   ]
  },
  {
   "cell_type": "code",
   "execution_count": 62,
   "metadata": {},
   "outputs": [
    {
     "data": {
      "text/plain": [
       "(0.0, 10.0)"
      ]
     },
     "execution_count": 62,
     "metadata": {},
     "output_type": "execute_result"
    },
    {
     "data": {
      "image/png": "[encoded data removed]",
      "text/plain": [
       "<Figure size 648x648 with 1 Axes>"
      ]
     },
     "metadata": {
      "needs_background": "light"
     },
     "output_type": "display_data"
    }
   ],
   "source": [
    "fig, axes = plt.subplots(1, 1, sharex=False, sharey=False)\n",
    "fig.set_size_inches(9,9)\n",
    "cols = ['TaskRemoval','TaskRelocation','TaskEdit','TaskAddition','MetaEdit','DefaultVariableEdit','BlockAddition','BlockAddition', 'BlockRemoval']\n",
    "\n",
    "df_melted2 = df_melted[df_melted.variable.isin(cols)]\n",
    "ax = sns.boxenplot(x=\"value\", \n",
    "                 y=\"variable\", \n",
    "                 hue='release',\n",
    "                 hue_order = ['major','minor','patch'],\n",
    "                 data=df_melted2, \n",
    "                 linewidth=1)\n",
    "ax.set_xlabel('')\n",
    "ax.set_xlim(0,10)\n"
   ]
  },
  {
   "cell_type": "code",
   "execution_count": 63,
   "metadata": {},
   "outputs": [
    {
     "data": {
      "text/plain": [
       "Index(['id', 'v1', 'v2', 'BlockAddition', 'BlockEdit', 'BlockRelocation',\n",
       "       'BlockRemoval', 'RoleVariableAddition', 'RoleVariableEdit',\n",
       "       'RoleVariableRelocation', 'RoleVariableRemoval', 'RoleVarFileAddition',\n",
       "       'RoleVarFileRelocation', 'RoleVarFileRemoval',\n",
       "       'DefaultVariableAddition', 'DefaultVariableEdit',\n",
       "       'DefaultVariableRelocation', 'DefaultVariableRemoval',\n",
       "       'DefaultVarFileAddition', 'DefaultVarFileRelocation',\n",
       "       'DefaultVarFileRemoval', 'DependencyAddition', 'DependencyRemoval',\n",
       "       'HandlerBlockAddition', 'HandlerBlockEdit', 'HandlerBlockRelocation',\n",
       "       'HandlerBlockRemoval', 'HandlerTaskAddition', 'HandlerTaskEdit',\n",
       "       'HandlerTaskRelocation', 'HandlerTaskRemoval', 'HandlerFileAddition',\n",
       "       'HandlerFileRelocation', 'HandlerFileRemoval', 'MetaEdit',\n",
       "       'PlatformAddition', 'PlatformRemoval', 'TaskAddition', 'TaskEdit',\n",
       "       'TaskRelocation', 'TaskRemoval', 'TaskFileAddition',\n",
       "       'TaskFileRelocation', 'TaskFileRemoval', 'fromm', 'tot', 'release'],\n",
       "      dtype='object')"
      ]
     },
     "execution_count": 63,
     "metadata": {},
     "output_type": "execute_result"
    }
   ],
   "source": [
    "diffs.columns"
   ]
  },
  {
   "cell_type": "markdown",
   "metadata": {},
   "source": [
    "## let's group variables "
   ]
  },
  {
   "cell_type": "code",
   "execution_count": 64,
   "metadata": {},
   "outputs": [],
   "source": [
    "diffs['Block'] = diffs['BlockAddition'] + diffs['BlockEdit']+ diffs['BlockRelocation'] + diffs['BlockRemoval']\n",
    "diffs['RoleVariable'] = diffs['RoleVariableAddition'] + diffs['RoleVariableEdit']+ diffs['RoleVariableRelocation']+ diffs['RoleVariableRemoval']\n",
    "diffs['RoleVariableFile'] = diffs['RoleVarFileAddition'] + diffs['RoleVarFileRelocation']+ diffs['RoleVarFileRemoval']\n",
    "diffs['DefaultVariable'] = diffs['DefaultVariableAddition'] + diffs['DefaultVariableEdit']+ diffs['DefaultVariableRelocation'] + diffs['DefaultVariableRemoval']\n",
    "diffs['DefaultVariableFile'] = diffs['DefaultVarFileAddition'] + diffs['DefaultVarFileRelocation']+ diffs['DefaultVarFileRemoval'] \n",
    "diffs['Dependency'] = diffs['DependencyAddition'] + diffs['DependencyRemoval']\n",
    "diffs['HandlerBlock'] = diffs['HandlerBlockAddition'] + diffs['HandlerBlockEdit']+ diffs['HandlerBlockRelocation'] + diffs['HandlerBlockRemoval']\n",
    "diffs['HandlerTask'] = diffs['HandlerTaskAddition'] + diffs['HandlerTaskEdit']+ diffs['HandlerTaskRelocation']  + diffs['HandlerTaskRemoval']\n",
    "diffs['HandlerFile'] = diffs['HandlerFileAddition'] + diffs['HandlerFileRelocation']+ + diffs['HandlerFileRemoval']\n",
    "diffs['Task'] = diffs['TaskEdit']+ diffs['TaskAddition'] +  diffs['TaskRelocation'] + diffs['TaskRemoval']\n",
    "diffs['TaskFile'] = diffs['TaskFileAddition'] + diffs['TaskFileRelocation']+ diffs['TaskFileRemoval']\n",
    "diffs['Platform'] = diffs['PlatformAddition'] + diffs['PlatformRemoval']\n",
    "\n",
    "cols = ['Block','RoleVariable','RoleVariableFile','DefaultVariable','DefaultVariableFile','Dependency',\n",
    "        'HandlerBlock','HandlerTask','HandlerFile','Task','TaskFile','Platform','MetaEdit']"
   ]
  },
  {
   "cell_type": "code",
   "execution_count": 65,
   "metadata": {},
   "outputs": [],
   "source": [
    "df_melted = (pd.melt(diffs.drop(['fromm','tot'], axis=1),\n",
    "                     id_vars=['id','v1','v2','release'],\n",
    "                     value_vars=diffs.drop(['id','v1','v2','fromm','tot','release'], axis=1).columns.tolist()\n",
    "                    )\n",
    "            )"
   ]
  },
  {
   "cell_type": "code",
   "execution_count": 66,
   "metadata": {},
   "outputs": [
    {
     "data": {
      "image/png": "[encoded data removed]",
      "text/plain": [
       "<Figure size 648x720 with 4 Axes>"
      ]
     },
     "metadata": {
      "needs_background": "light"
     },
     "output_type": "display_data"
    }
   ],
   "source": [
    "cols = ['Task','DefaultVariable','Block','Platform']\n",
    "fig, axes = plt.subplots(len(cols), 1, sharex=False, sharey=False)\n",
    "fig.set_size_inches(9,10)\n",
    "\n",
    "for i, var in enumerate(cols):\n",
    "    df_tmp = df_melted.query('variable ==\"'+var+'\"')\n",
    "    ax = sns.boxplot(x=\"release\", \n",
    "                     y=\"value\", \n",
    "                     order = ['major','minor','patch'],\n",
    "                     data=df_tmp, \n",
    "                     ax=axes[i],\n",
    "                     #color='blue',\n",
    "                     showfliers=False,\n",
    "                     linewidth=1)\n",
    "    #ax.figure.set_size_inches(9,3)\n",
    "    ax.set_ylabel(var)\n",
    "    ax.set_xlabel('')\n",
    "    #ax.set_xlabel('proportion of releases')\n",
    "    #ax.set_xlim(0,40)\n"
   ]
  },
  {
   "cell_type": "code",
   "execution_count": 67,
   "metadata": {},
   "outputs": [
    {
     "data": {
      "text/plain": [
       "<matplotlib.legend.Legend at 0x7f112c7b5b00>"
      ]
     },
     "execution_count": 67,
     "metadata": {},
     "output_type": "execute_result"
    },
    {
     "data": {
      "image/png": "[encoded data removed]",
      "text/plain": [
       "<Figure size 648x216 with 1 Axes>"
      ]
     },
     "metadata": {
      "needs_background": "light"
     },
     "output_type": "display_data"
    }
   ],
   "source": [
    "# Distribution of number of changes for each variable\n",
    "fig, axes = plt.subplots(1, 1, sharex=False, sharey=False)\n",
    "fig.set_size_inches(9,3)\n",
    "cols = ['Task','DefaultVariable','Block','Platform']\n",
    "\n",
    "df_melted2 = df_melted[df_melted.variable.isin(cols)]\n",
    "ax = sns.boxenplot(x=\"variable\", \n",
    "                 y=\"value\", \n",
    "                 hue='release',\n",
    "                 hue_order = ['major','minor','patch'],\n",
    "                 data=df_melted2, \n",
    "                #ax=axes[i],\n",
    "                 #color='blue',\n",
    "                 #showfliers=False,\n",
    "                 linewidth=1)\n",
    "#ax.figure.set_size_inches(9,3)\n",
    "ax.set_ylabel('changes')\n",
    "ax.set_xlabel('')\n",
    "ax.set_ylim(0,20)\n",
    "ax.legend(loc='upper left')\n"
   ]
  },
  {
   "cell_type": "code",
   "execution_count": 68,
   "metadata": {},
   "outputs": [],
   "source": [
    "prop = diffs[['id','v1','v2','release']].drop_duplicates().groupby('release').count()[['id']]"
   ]
  },
  {
   "cell_type": "code",
   "execution_count": 69,
   "metadata": {},
   "outputs": [
    {
     "data": {
      "text/plain": [
       "array(['patch', 'minor', 'major'], dtype=object)"
      ]
     },
     "execution_count": 69,
     "metadata": {},
     "output_type": "execute_result"
    }
   ],
   "source": [
    "diffs.release.unique()"
   ]
  },
  {
   "cell_type": "markdown",
   "metadata": {},
   "source": [
    "## Let's check how many versions changes specific variables"
   ]
  },
  {
   "cell_type": "code",
   "execution_count": 70,
   "metadata": {},
   "outputs": [
    {
     "name": "stdout",
     "output_type": "stream",
     "text": [
      "\\begin{tabular}{lrrr}\n",
      "\\toprule\n",
      "release &  patch &  minor &  major \\\\\n",
      "\\midrule\n",
      "Task                &  38.87 &  65.90 &  70.58 \\\\\n",
      "DefaultVariable     &  23.88 &  51.19 &  60.50 \\\\\n",
      "Block               &   8.29 &  26.79 &  36.56 \\\\\n",
      "MetaEdit            &  11.10 &  19.93 &  35.53 \\\\\n",
      "Platform            &   8.02 &  15.61 &  25.10 \\\\\n",
      "RoleVariable        &  10.25 &  21.15 &  24.78 \\\\\n",
      "TaskFile            &   4.58 &  17.14 &  22.96 \\\\\n",
      "HandlerTask         &   3.21 &   9.47 &  13.65 \\\\\n",
      "RoleVariableFile    &   3.74 &   9.35 &  11.01 \\\\\n",
      "Dependency          &   1.15 &   2.75 &   6.63 \\\\\n",
      "HandlerBlock        &   1.04 &   3.57 &   5.69 \\\\\n",
      "HandlerFile         &   0.51 &   1.88 &   3.80 \\\\\n",
      "DefaultVariableFile &   0.99 &   1.55 &   1.87 \\\\\n",
      "\\bottomrule\n",
      "\\end{tabular}\n",
      "\n"
     ]
    }
   ],
   "source": [
    "cols = ['Block','RoleVariable','RoleVariableFile','DefaultVariable','DefaultVariableFile','Dependency',\n",
    "        'HandlerBlock','HandlerTask','HandlerFile','Task','TaskFile','Platform','MetaEdit']\n",
    "tab =[]\n",
    "for x in cols: #['Task','DefaultVariable','Block']:\n",
    "    df_tmp = diffs.query(x+'>0')[['id','v1','v2','release']].drop_duplicates().groupby('release').count()[['id']]\n",
    "    df_tmp = df_tmp*100/prop\n",
    "    df_tmp = df_tmp.rename(columns={'id':x})\n",
    "    df_tmp[x] = df_tmp[x].apply(lambda x: round(x,2))\n",
    "    df_tmp = df_tmp.T\n",
    "    tab.append(df_tmp)\n",
    "tab = pd.concat(tab)\n",
    "print(tab.sort_values('major', ascending=False)[['patch','minor','major']].to_latex())"
   ]
  },
  {
   "cell_type": "code",
   "execution_count": 71,
   "metadata": {},
   "outputs": [
    {
     "data": {
      "text/plain": [
       "<matplotlib.legend.Legend at 0x7f112c884a20>"
      ]
     },
     "execution_count": 71,
     "metadata": {},
     "output_type": "execute_result"
    },
    {
     "data": {
      "image/png": "[encoded data removed]",
      "text/plain": [
       "<Figure size 648x432 with 1 Axes>"
      ]
     },
     "metadata": {
      "needs_background": "light"
     },
     "output_type": "display_data"
    }
   ],
   "source": [
    "df_melted = pd.melt(tab.reset_index(), \n",
    "             id_vars=['index'],\n",
    "             value_vars=['major','minor','patch']\n",
    "            ).rename(columns={'index':'type'})\n",
    "ax = sns.barplot(y=\"type\", \n",
    "                 x=\"value\", \n",
    "                 hue = 'release',\n",
    "                 data=df_melted, \n",
    "                 hue_order = ['major','minor','patch'],\n",
    "                 order = tab.sort_values('major', ascending=False).head(7).reset_index()['index'].tolist()\n",
    "                 #color='blue'\n",
    "                )\n",
    "ax.figure.set_size_inches(9,6)\n",
    "#ax.set_xlabel(\"\")\n",
    "ax.set_xlabel('proportion of releases')\n",
    "ax.set_xlim(0,100)\n",
    "ax.legend(loc='upper right') #handles=legend_elements, "
   ]
  },
  {
   "cell_type": "code",
   "execution_count": 72,
   "metadata": {},
   "outputs": [
    {
     "name": "stdout",
     "output_type": "stream",
     "text": [
      "Block 13.66\n",
      "RoleVariable 13.31\n",
      "RoleVariableFile 5.31\n",
      "DefaultVariable 31.57\n",
      "DefaultVariableFile 1.16\n",
      "Dependency 1.77\n",
      "HandlerBlock 1.81\n",
      "HandlerTask 5.07\n",
      "HandlerFile 0.97\n",
      "Task 46.26\n",
      "TaskFile 8.19\n",
      "Platform 10.49\n",
      "MetaEdit 14.19\n"
     ]
    }
   ],
   "source": [
    "# Considering all releases\n",
    "prop = len(diffs[['id','v1','v2','release']].drop_duplicates())\n",
    "for x in cols: #['Task','DefaultVariable','Block']:\n",
    "    df_tmp = len(diffs.query(x+'>0')[['id','v1','v2','release']].drop_duplicates())\n",
    "    df_tmp = df_tmp*100/prop\n",
    "    print(x, round(df_tmp, 2))"
   ]
  },
  {
   "cell_type": "code",
   "execution_count": 73,
   "metadata": {},
   "outputs": [
    {
     "name": "stdout",
     "output_type": "stream",
     "text": [
      "\\begin{tabular}{lrrr}\n",
      "\\toprule\n",
      "release &  patch &  minor &  major \\\\\n",
      "\\midrule\n",
      "tasks    &  39.03 &  65.98 &  70.72 \\\\\n",
      "defaults &  23.95 &  51.26 &  60.55 \\\\\n",
      "meta     &  16.96 &  29.45 &  47.15 \\\\\n",
      "vars     &  10.78 &  21.81 &  25.59 \\\\\n",
      "handlers &   3.37 &   9.81 &  14.82 \\\\\n",
      "\\bottomrule\n",
      "\\end{tabular}\n",
      "\n"
     ]
    }
   ],
   "source": [
    "diffs_folders= diffs.copy()\n",
    "diffs_folders['tasks'] = diffs_folders['Task'] + diffs_folders['Block'] + diffs_folders['TaskFile']\n",
    "diffs_folders['defaults'] = diffs_folders['DefaultVariable'] + diffs_folders['DefaultVariableFile'] \n",
    "diffs_folders['meta'] = diffs_folders['MetaEdit'] + diffs_folders['Platform'] + diffs_folders['Dependency']\n",
    "diffs_folders['vars'] = diffs_folders['RoleVariable'] + diffs_folders['RoleVariableFile'] \n",
    "diffs_folders['handlers'] = diffs_folders['HandlerTask'] + diffs_folders['HandlerBlock'] + diffs_folders['HandlerFile']\n",
    "df_melted_2 = (pd.melt(diffs_folders.drop(['fromm','tot'], axis=1),\n",
    "                     id_vars=['id','v1','v2','release'],\n",
    "                     value_vars=diffs.drop(['id','v1','v2','fromm','tot','release'], axis=1).columns.tolist()\n",
    "                    )\n",
    "            )\n",
    "prop_2 = diffs_folders[['id','v1','v2','release']].drop_duplicates().groupby('release').count()[['id']]\n",
    "\n",
    "cols = ['tasks','defaults','meta','vars','handlers']\n",
    "\n",
    "tab =[]\n",
    "for x in cols: #['Task','DefaultVariable','Block']:\n",
    "    df_tmp = diffs_folders.query(x+'>0')[['id','v1','v2','release']].drop_duplicates().groupby('release').count()[['id']]\n",
    "    df_tmp = df_tmp*100/prop_2\n",
    "    df_tmp = df_tmp.rename(columns={'id':x})\n",
    "    df_tmp[x] = df_tmp[x].apply(lambda x: round(x,2))\n",
    "    df_tmp = df_tmp.T\n",
    "    tab.append(df_tmp)\n",
    "tab = pd.concat(tab)\n",
    "print(tab.sort_values('major', ascending=False)[['patch','minor','major']].to_latex())"
   ]
  },
  {
   "cell_type": "code",
   "execution_count": 74,
   "metadata": {},
   "outputs": [
    {
     "name": "stdout",
     "output_type": "stream",
     "text": [
      "tasks 46.4\n",
      "defaults 31.64\n",
      "meta 21.13\n",
      "vars 13.89\n",
      "handlers 5.32\n"
     ]
    }
   ],
   "source": [
    "prop_2 = len(diffs_folders[['id','v1','v2','release']].drop_duplicates())\n",
    "for x in cols: #['Task','DefaultVariable','Block']:\n",
    "    df_tmp = len(diffs_folders.query(x+'>0')[['id','v1','v2','release']].drop_duplicates())\n",
    "    df_tmp = df_tmp*100/prop_2\n",
    "    print(x, round(df_tmp, 2))"
   ]
  },
  {
   "cell_type": "code",
   "execution_count": 41,
   "metadata": {},
   "outputs": [
    {
     "data": {
      "text/html": [
       "<div>\n",
       "<style scoped>\n",
       "    .dataframe tbody tr th:only-of-type {\n",
       "        vertical-align: middle;\n",
       "    }\n",
       "\n",
       "    .dataframe tbody tr th {\n",
       "        vertical-align: top;\n",
       "    }\n",
       "\n",
       "    .dataframe thead th {\n",
       "        text-align: right;\n",
       "    }\n",
       "</style>\n",
       "<table border=\"1\" class=\"dataframe\">\n",
       "  <thead>\n",
       "    <tr style=\"text-align: right;\">\n",
       "      <th>release</th>\n",
       "      <th>major</th>\n",
       "      <th>minor</th>\n",
       "      <th>patch</th>\n",
       "    </tr>\n",
       "  </thead>\n",
       "  <tbody>\n",
       "    <tr>\n",
       "      <th>DefaultVariableAddition</th>\n",
       "      <td>39.97</td>\n",
       "      <td>37.05</td>\n",
       "      <td>11.94</td>\n",
       "    </tr>\n",
       "    <tr>\n",
       "      <th>DefaultVariableEdit</th>\n",
       "      <td>31.29</td>\n",
       "      <td>22.21</td>\n",
       "      <td>13.21</td>\n",
       "    </tr>\n",
       "    <tr>\n",
       "      <th>DefaultVariableRelocation</th>\n",
       "      <td>0.07</td>\n",
       "      <td>0.03</td>\n",
       "      <td>0.06</td>\n",
       "    </tr>\n",
       "    <tr>\n",
       "      <th>DefaultVariableRemoval</th>\n",
       "      <td>28.56</td>\n",
       "      <td>9.47</td>\n",
       "      <td>3.25</td>\n",
       "    </tr>\n",
       "    <tr>\n",
       "      <th>TaskAddition</th>\n",
       "      <td>42.53</td>\n",
       "      <td>39.92</td>\n",
       "      <td>14.24</td>\n",
       "    </tr>\n",
       "    <tr>\n",
       "      <th>TaskEdit</th>\n",
       "      <td>59.31</td>\n",
       "      <td>52.63</td>\n",
       "      <td>31.88</td>\n",
       "    </tr>\n",
       "    <tr>\n",
       "      <th>TaskRelocation</th>\n",
       "      <td>39.71</td>\n",
       "      <td>33.82</td>\n",
       "      <td>12.84</td>\n",
       "    </tr>\n",
       "    <tr>\n",
       "      <th>TaskRemoval</th>\n",
       "      <td>28.93</td>\n",
       "      <td>15.29</td>\n",
       "      <td>5.68</td>\n",
       "    </tr>\n",
       "  </tbody>\n",
       "</table>\n",
       "</div>"
      ],
      "text/plain": [
       "release                    major  minor  patch\n",
       "DefaultVariableAddition    39.97  37.05  11.94\n",
       "DefaultVariableEdit        31.29  22.21  13.21\n",
       "DefaultVariableRelocation   0.07   0.03   0.06\n",
       "DefaultVariableRemoval     28.56   9.47   3.25\n",
       "TaskAddition               42.53  39.92  14.24\n",
       "TaskEdit                   59.31  52.63  31.88\n",
       "TaskRelocation             39.71  33.82  12.84\n",
       "TaskRemoval                28.93  15.29   5.68"
      ]
     },
     "execution_count": 41,
     "metadata": {},
     "output_type": "execute_result"
    }
   ],
   "source": [
    "prop = diffs[['id','v1','v2','release']].drop_duplicates().groupby('release').count()[['id']]\n",
    "cols = ['DefaultVariableAddition','DefaultVariableEdit','DefaultVariableRelocation','DefaultVariableRemoval', \n",
    " 'TaskAddition','TaskEdit','TaskRelocation','TaskRemoval']\n",
    "tab =[]\n",
    "for x in cols: #['Task','DefaultVariable','Block']:\n",
    "    df_tmp = diffs.query(x+'>0')[['id','v1','v2','release']].drop_duplicates().groupby('release').count()[['id']]\n",
    "    df_tmp = df_tmp*100/prop\n",
    "    df_tmp = df_tmp.rename(columns={'id':x})\n",
    "    df_tmp[x] = df_tmp[x].apply(lambda x: round(x,2))\n",
    "    df_tmp = df_tmp.T\n",
    "    tab.append(df_tmp)\n",
    "tab = pd.concat(tab)\n",
    "tab"
   ]
  },
  {
   "cell_type": "code",
   "execution_count": 383,
   "metadata": {},
   "outputs": [
    {
     "name": "stdout",
     "output_type": "stream",
     "text": [
      "DefaultVariableAddition 18.74\n",
      "DefaultVariableEdit 16.03\n",
      "DefaultVariableRelocation 0.05\n",
      "DefaultVariableRemoval 5.82\n",
      "TaskAddition 21.17\n",
      "TaskEdit 37.71\n",
      "TaskRelocation 18.69\n",
      "TaskRemoval 8.89\n"
     ]
    }
   ],
   "source": [
    "prop = len(diffs[['id','v1','v2','release']].drop_duplicates())\n",
    "for x in cols: #['Task','DefaultVariable','Block']:\n",
    "    df_tmp = len(diffs.query(x+'>0')[['id','v1','v2','release']].drop_duplicates())\n",
    "    df_tmp = df_tmp*100/prop\n",
    "    print(x, round(df_tmp, 2))"
   ]
  },
  {
   "cell_type": "code",
   "execution_count": null,
   "metadata": {},
   "outputs": [],
   "source": [
    "print('Analysis for zero release')\n",
    "diffs_zero = diffs.copy()\n",
    "diffs_zero['zero'] =diffs_zero['v2'].apply(lambda x: x.startswith('0.'))\n",
    "diffs_zero = diffs_zero.query('zero == True')\n",
    "cols = ['Block','RoleVariable','RoleVariableFile','DefaultVariable','DefaultVariableFile','Dependency',\n",
    "        'HandlerBlock','HandlerTask','HandlerFile','Task','TaskFile','Platform','MetaEdit']\n",
    "tab =[]\n",
    "prop = diffs_zero[['id','v1','v2','release']].drop_duplicates().groupby('release').count()[['id']]\n",
    "for x in cols: #['Task','DefaultVariable','Block']:\n",
    "    df_tmp = diffs_zero.query(x+'>0')[['id','v1','v2','release']].drop_duplicates().groupby('release').count()[['id']]\n",
    "    df_tmp = df_tmp*100/prop\n",
    "    df_tmp = df_tmp.rename(columns={'id':x})\n",
    "    df_tmp[x] = df_tmp[x].apply(lambda x: round(x,2))\n",
    "    df_tmp = df_tmp.T\n",
    "    tab.append(df_tmp)\n",
    "tab = pd.concat(tab)\n",
    "tab.sort_values('minor', ascending=False)"
   ]
  },
  {
   "cell_type": "code",
   "execution_count": 384,
   "metadata": {},
   "outputs": [],
   "source": [
    "def sum_row(d, cols):\n",
    "    s = 0\n",
    "    for c in cols:\n",
    "        s = s + d[c]\n",
    "    return s"
   ]
  },
  {
   "cell_type": "code",
   "execution_count": 385,
   "metadata": {},
   "outputs": [],
   "source": [
    "cols = diffs.drop(['id','v1','v2', 'tot','fromm','release'], axis=1).columns.tolist()\n",
    "\n",
    "diffs['total'] = diffs.fillna(0).apply(lambda d: sum_row(d, cols), axis=1)"
   ]
  },
  {
   "cell_type": "code",
   "execution_count": 386,
   "metadata": {},
   "outputs": [],
   "source": [
    "diffs['total2'] = diffs['total'].apply(lambda d: d>0)\n"
   ]
  },
  {
   "cell_type": "code",
   "execution_count": 387,
   "metadata": {},
   "outputs": [
    {
     "data": {
      "text/plain": [
       "(31.49326473972788, 68.50673526027212)"
      ]
     },
     "execution_count": 387,
     "metadata": {},
     "output_type": "execute_result"
    }
   ],
   "source": [
    "# Releases that did not touch anything\n",
    "len(diffs.query('total==0'))*100/prop, len(diffs.query('total>0'))*100/prop"
   ]
  },
  {
   "cell_type": "code",
   "execution_count": null,
   "metadata": {},
   "outputs": [],
   "source": []
  }
 ],
 "metadata": {
  "kernelspec": {
   "display_name": "Python 3",
   "language": "python",
   "name": "python3"
  },
  "language_info": {
   "codemirror_mode": {
    "name": "ipython",
    "version": 3
   },
   "file_extension": ".py",
   "mimetype": "text/x-python",
   "name": "python",
   "nbconvert_exporter": "python",
   "pygments_lexer": "ipython3",
   "version": "3.6.9"
  }
 },
 "nbformat": 4,
 "nbformat_minor": 2
}
