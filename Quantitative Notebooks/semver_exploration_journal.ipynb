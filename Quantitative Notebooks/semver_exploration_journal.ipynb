{
 "cells": [
  {
   "cell_type": "code",
   "execution_count": 52,
   "metadata": {},
   "outputs": [],
   "source": [
    "%matplotlib inline\n",
    "from imports import *\n",
    "font = {'family' : 'Times New Roman',\n",
    "        'weight' : 'bold',\n",
    "        'size'   : 16}\n",
    "plt.rc('font', **font)\n",
    "order = ['node','Python','Ruby']\n",
    "d = {'python':'Python','ruby':'Ruby'}\n",
    "import effect_size\n",
    "from tqdm.notebook import tqdm\n",
    "from datetime import datetime\n",
    "plt.rcParams['text.usetex'] = True"
   ]
  },
  {
   "cell_type": "markdown",
   "metadata": {},
   "source": [
    "# Load data"
   ]
  },
  {
   "cell_type": "code",
   "execution_count": 53,
   "metadata": {},
   "outputs": [],
   "source": [
    "commits = pd.read_csv('../data/commits.csv.gz')\n",
    "files = pd.read_csv('../data/touched_files.csv.gz')\n",
    "lines = pd.read_csv('../data/touched_lines.csv.gz')\n",
    "commits['date'] = commits['date'].apply(datetime.fromtimestamp)\n",
    "for x in [commits, files, lines]:\n",
    "    x['v1'] = x['v1..v2'].apply(lambda d: d.split('..')[0].replace('v',''))\n",
    "    x['v2'] = x['v1..v2'].apply(lambda d: d.split('..')[1].replace('v',''))\n",
    "    x.drop('v1..v2', axis=1, inplace=True)\n",
    "    x.fillna('undefined',inplace=True)\n",
    "    x['repo'] = x['owner']+'/'+x['repo']\n",
    "commits.drop(['author','email'], axis=1, inplace=True)"
   ]
  },
  {
   "cell_type": "code",
   "execution_count": 54,
   "metadata": {},
   "outputs": [
    {
     "name": "stdout",
     "output_type": "stream",
     "text": [
      "11156 11156 11156\n",
      "11156 11156 11156\n"
     ]
    }
   ],
   "source": [
    "print(commits.repo.unique().size, lines.repo.unique().size, files.repo.unique().size)\n",
    "print(commits.id.unique().size, lines.id.unique().size, files.id.unique().size)"
   ]
  },
  {
   "cell_type": "code",
   "execution_count": 55,
   "metadata": {},
   "outputs": [
    {
     "name": "stdout",
     "output_type": "stream",
     "text": [
      "11156 11156 11156\n"
     ]
    }
   ],
   "source": [
    "print(commits.repo.unique().size, lines.repo.unique().size, files.repo.unique().size)"
   ]
  },
  {
   "cell_type": "code",
   "execution_count": 56,
   "metadata": {},
   "outputs": [
    {
     "name": "stdout",
     "output_type": "stream",
     "text": [
      "11156 11156 11156\n"
     ]
    }
   ],
   "source": [
    "print(commits.id.unique().size, lines.id.unique().size, files.id.unique().size)"
   ]
  },
  {
   "cell_type": "markdown",
   "metadata": {},
   "source": [
    "# Remove repos that refer to multiples projects"
   ]
  },
  {
   "cell_type": "code",
   "execution_count": 57,
   "metadata": {},
   "outputs": [],
   "source": [
    "df_tmp = (commits[['id','role','repo']].drop_duplicates().groupby('repo').count()[['role']].reset_index())\n",
    "df_tmp = df_tmp.query('role >1')\n",
    "\n",
    "commits = commits[~commits.repo.isin(df_tmp.repo)]\n",
    "lines = lines[~lines.repo.isin(df_tmp.repo)]\n",
    "files = files[~files.repo.isin(df_tmp.repo)]\n",
    "\n",
    "releases = (commits[['id','v1','v2','date']]\n",
    "            .sort_values('date')\n",
    "            .groupby(['id','v1','v2'])\n",
    "            .first()\n",
    "            .reset_index()\n",
    "           )"
   ]
  },
  {
   "cell_type": "code",
   "execution_count": 58,
   "metadata": {},
   "outputs": [
    {
     "data": {
      "text/html": [
       "<div>\n",
       "<style scoped>\n",
       "    .dataframe tbody tr th:only-of-type {\n",
       "        vertical-align: middle;\n",
       "    }\n",
       "\n",
       "    .dataframe tbody tr th {\n",
       "        vertical-align: top;\n",
       "    }\n",
       "\n",
       "    .dataframe thead th {\n",
       "        text-align: right;\n",
       "    }\n",
       "</style>\n",
       "<table border=\"1\" class=\"dataframe\">\n",
       "  <thead>\n",
       "    <tr style=\"text-align: right;\">\n",
       "      <th></th>\n",
       "      <th>id</th>\n",
       "      <th>v1</th>\n",
       "      <th>v2</th>\n",
       "      <th>date</th>\n",
       "    </tr>\n",
       "  </thead>\n",
       "  <tbody>\n",
       "    <tr>\n",
       "      <th>89855</th>\n",
       "      <td>vivekyaji.ansible_supervisord_program</td>\n",
       "      <td>1.1.1</td>\n",
       "      <td>1.1.2</td>\n",
       "      <td>2018-03-28 04:56:23</td>\n",
       "    </tr>\n",
       "  </tbody>\n",
       "</table>\n",
       "</div>"
      ],
      "text/plain": [
       "                                          id     v1     v2                date\n",
       "89855  vivekyaji.ansible_supervisord_program  1.1.1  1.1.2 2018-03-28 04:56:23"
      ]
     },
     "execution_count": 58,
     "metadata": {},
     "output_type": "execute_result"
    }
   ],
   "source": [
    "releases.sample()"
   ]
  },
  {
   "cell_type": "code",
   "execution_count": 59,
   "metadata": {},
   "outputs": [
    {
     "name": "stdout",
     "output_type": "stream",
     "text": [
      "11156 11156 11156 11156\n"
     ]
    }
   ],
   "source": [
    "print(releases.id.unique().size, commits.id.unique().size, lines.id.unique().size, files.id.unique().size)"
   ]
  },
  {
   "cell_type": "code",
   "execution_count": 60,
   "metadata": {},
   "outputs": [
    {
     "name": "stdout",
     "output_type": "stream",
     "text": [
      "11156 11156 11156 11156\n"
     ]
    }
   ],
   "source": [
    "print(releases.id.unique().size, commits.repo.unique().size, lines.repo.unique().size, files.repo.unique().size)"
   ]
  },
  {
   "cell_type": "code",
   "execution_count": 61,
   "metadata": {},
   "outputs": [
    {
     "data": {
      "text/plain": [
       "92716"
      ]
     },
     "execution_count": 61,
     "metadata": {},
     "output_type": "execute_result"
    }
   ],
   "source": [
    "len(releases)"
   ]
  },
  {
   "cell_type": "markdown",
   "metadata": {},
   "source": [
    "# Remove those that do not have any releases"
   ]
  },
  {
   "cell_type": "code",
   "execution_count": 62,
   "metadata": {},
   "outputs": [],
   "source": [
    "releases = releases.query('v1 != \"4b825dc642cb6eb9a060e54bf8d69288fbee4904\" or v2 != \"HEAD\"')\n",
    "commits = commits.query('v1 != \"4b825dc642cb6eb9a060e54bf8d69288fbee4904\" or v2 != \"HEAD\"')\n",
    "files = files.query('v1 != \"4b825dc642cb6eb9a060e54bf8d69288fbee4904\" or v2 != \"HEAD\"')\n",
    "lines = lines.query('v1 != \"4b825dc642cb6eb9a060e54bf8d69288fbee4904\" or v2 != \"HEAD\"')"
   ]
  },
  {
   "cell_type": "code",
   "execution_count": 63,
   "metadata": {},
   "outputs": [
    {
     "name": "stdout",
     "output_type": "stream",
     "text": [
      "11156 11156 11156 11156 11156\n"
     ]
    }
   ],
   "source": [
    "print(releases.id.unique().size, commits.id.unique().size, lines.id.unique().size, files.id.unique().size, releases.id.unique().size)"
   ]
  },
  {
   "cell_type": "markdown",
   "metadata": {},
   "source": [
    "# RQ0: SEMVER syntaxe compliance"
   ]
  },
  {
   "cell_type": "code",
   "execution_count": 64,
   "metadata": {},
   "outputs": [],
   "source": [
    "RE_SEMVER = r'^(?:v|V)?(?P<v_major>\\d+)\\.(?P<v_minor>\\d+)\\.(?P<v_patch>\\d+)(?P<v_misc>.*)$'\n",
    "def comply_semver(series_of_releases):\n",
    "    extracted = series_of_releases.str.extract(RE_SEMVER, expand=True)\n",
    "    return (\n",
    "        extracted\n",
    "        [['v_major', 'v_minor', 'v_patch']]\n",
    "        .astype('str')\n",
    "        .assign(Semver=lambda d: d['v_major'] + '.' + d['v_minor'] + '.' + d['v_patch'])\n",
    "        ['Semver']\n",
    "    )"
   ]
  },
  {
   "cell_type": "code",
   "execution_count": 65,
   "metadata": {},
   "outputs": [],
   "source": [
    "#releases_comply = pd.concat([releases[['id','to']], releases[['id','from']].rename(columns={'from':'to'})])\n",
    "#releases_comply.drop_duplicates(inplace=True)"
   ]
  },
  {
   "cell_type": "code",
   "execution_count": 66,
   "metadata": {},
   "outputs": [],
   "source": [
    "for x in [releases, commits, files, lines]:\n",
    "    x['fromm'] = comply_semver(x['v1'])\n",
    "    x['tot'] = comply_semver(x['v2'])\n",
    "    \n",
    "#for x in [releases_comply]:\n",
    "#    x['to'] = comply_semver(x['to'])"
   ]
  },
  {
   "cell_type": "code",
   "execution_count": 67,
   "metadata": {},
   "outputs": [],
   "source": [
    "releases = releases.query('v2 != \"HEAD\"')\n",
    "commits = commits.query('v2 != \"HEAD\"')\n",
    "files = files.query('v2 != \"HEAD\"')\n",
    "lines = lines.query('v2 != \"HEAD\"')"
   ]
  },
  {
   "cell_type": "code",
   "execution_count": 68,
   "metadata": {},
   "outputs": [
    {
     "data": {
      "text/plain": [
       "11156"
      ]
     },
     "execution_count": 68,
     "metadata": {},
     "output_type": "execute_result"
    }
   ],
   "source": [
    "releases.id.unique().size"
   ]
  },
  {
   "cell_type": "code",
   "execution_count": 69,
   "metadata": {},
   "outputs": [],
   "source": [
    "def type_release(v0,v1,v2):\n",
    "    if v0 == \"4b825dc642cb6eb9a060e54bf8d69288fbee4904\":\n",
    "        return 'initial'\n",
    "    v1=v1.split('.')\n",
    "    v2=v2.split('.')\n",
    "    \n",
    "    if v1[-1] == 'nan' or v2[-1] == \"nan\":\n",
    "        return 'notSemver'\n",
    "    if v1[0]!=v2[0]:\n",
    "        return 'major'\n",
    "    if v1[1]!=v2[1]:\n",
    "        return 'minor'\n",
    "    if v1[2]!=v2[2]:\n",
    "        return 'patch'\n",
    "    return 'pre'\n",
    "\n",
    "for x in [ releases, commits, files, lines]:\n",
    "    x['release'] = x.apply(lambda d: type_release(d['v1'], d['fromm'], d['tot']), axis=1)"
   ]
  },
  {
   "cell_type": "code",
   "execution_count": 70,
   "metadata": {},
   "outputs": [
    {
     "data": {
      "text/plain": [
       "92716"
      ]
     },
     "execution_count": 70,
     "metadata": {},
     "output_type": "execute_result"
    }
   ],
   "source": [
    "len(releases)"
   ]
  },
  {
   "cell_type": "code",
   "execution_count": 71,
   "metadata": {},
   "outputs": [
    {
     "data": {
      "text/plain": [
       "225"
      ]
     },
     "execution_count": 71,
     "metadata": {},
     "output_type": "execute_result"
    }
   ],
   "source": [
    "releases.query('release == \"pre\"').id.unique().size"
   ]
  },
  {
   "cell_type": "code",
   "execution_count": 72,
   "metadata": {
    "scrolled": true
   },
   "outputs": [],
   "source": [
    "commits = commits.query('release != \"notSemver\" and release != \"pre\"')\n",
    "lines = lines.query('release != \"notSemver\" and release != \"pre\"')\n",
    "files = files.query('release != \"notSemver\" and release != \"pre\"')\n",
    "releases = releases.query('release != \"notSemver\" and release != \"pre\"')"
   ]
  },
  {
   "cell_type": "code",
   "execution_count": null,
   "metadata": {},
   "outputs": [],
   "source": [
    "releases.fromm = releases.fromm.replace({'nan.nan.nan':'first commit'})\n",
    "lines.fromm = lines.fromm.replace({'nan.nan.nan':'first commit'})\n",
    "commits.fromm = commits.fromm.replace({'nan.nan.nan':'first commit'})\n",
    "files.fromm = files.fromm.replace({'nan.nan.nan':'first commit'})"
   ]
  },
  {
   "cell_type": "code",
   "execution_count": 74,
   "metadata": {},
   "outputs": [
    {
     "data": {
      "text/html": [
       "<div>\n",
       "<style scoped>\n",
       "    .dataframe tbody tr th:only-of-type {\n",
       "        vertical-align: middle;\n",
       "    }\n",
       "\n",
       "    .dataframe tbody tr th {\n",
       "        vertical-align: top;\n",
       "    }\n",
       "\n",
       "    .dataframe thead th {\n",
       "        text-align: right;\n",
       "    }\n",
       "</style>\n",
       "<table border=\"1\" class=\"dataframe\">\n",
       "  <thead>\n",
       "    <tr style=\"text-align: right;\">\n",
       "      <th></th>\n",
       "      <th>id</th>\n",
       "      <th>v1</th>\n",
       "      <th>v2</th>\n",
       "      <th>date</th>\n",
       "      <th>fromm</th>\n",
       "      <th>tot</th>\n",
       "    </tr>\n",
       "    <tr>\n",
       "      <th>release</th>\n",
       "      <th></th>\n",
       "      <th></th>\n",
       "      <th></th>\n",
       "      <th></th>\n",
       "      <th></th>\n",
       "      <th></th>\n",
       "    </tr>\n",
       "  </thead>\n",
       "  <tbody>\n",
       "    <tr>\n",
       "      <th>initial</th>\n",
       "      <td>12.112263</td>\n",
       "      <td>12.112263</td>\n",
       "      <td>12.112263</td>\n",
       "      <td>12.112263</td>\n",
       "      <td>12.112263</td>\n",
       "      <td>12.112263</td>\n",
       "    </tr>\n",
       "    <tr>\n",
       "      <th>major</th>\n",
       "      <td>4.313555</td>\n",
       "      <td>4.313555</td>\n",
       "      <td>4.313555</td>\n",
       "      <td>4.313555</td>\n",
       "      <td>4.313555</td>\n",
       "      <td>4.313555</td>\n",
       "    </tr>\n",
       "    <tr>\n",
       "      <th>minor</th>\n",
       "      <td>20.097715</td>\n",
       "      <td>20.097715</td>\n",
       "      <td>20.097715</td>\n",
       "      <td>20.097715</td>\n",
       "      <td>20.097715</td>\n",
       "      <td>20.097715</td>\n",
       "    </tr>\n",
       "    <tr>\n",
       "      <th>patch</th>\n",
       "      <td>63.476467</td>\n",
       "      <td>63.476467</td>\n",
       "      <td>63.476467</td>\n",
       "      <td>63.476467</td>\n",
       "      <td>63.476467</td>\n",
       "      <td>63.476467</td>\n",
       "    </tr>\n",
       "  </tbody>\n",
       "</table>\n",
       "</div>"
      ],
      "text/plain": [
       "                id         v1         v2       date      fromm        tot\n",
       "release                                                                  \n",
       "initial  12.112263  12.112263  12.112263  12.112263  12.112263  12.112263\n",
       "major     4.313555   4.313555   4.313555   4.313555   4.313555   4.313555\n",
       "minor    20.097715  20.097715  20.097715  20.097715  20.097715  20.097715\n",
       "patch    63.476467  63.476467  63.476467  63.476467  63.476467  63.476467"
      ]
     },
     "execution_count": 74,
     "metadata": {},
     "output_type": "execute_result"
    }
   ],
   "source": [
    "# Don't remove duplicates\n",
    "releases.groupby('release').count()*100/len(releases)"
   ]
  },
  {
   "cell_type": "code",
   "execution_count": 75,
   "metadata": {},
   "outputs": [
    {
     "name": "stdout",
     "output_type": "stream",
     "text": [
      "92105 594188 93129 761982\n"
     ]
    }
   ],
   "source": [
    "print(len(releases),len(commits), len(lines), len(files))"
   ]
  },
  {
   "cell_type": "code",
   "execution_count": 76,
   "metadata": {},
   "outputs": [
    {
     "name": "stdout",
     "output_type": "stream",
     "text": [
      "11156 11156 11156 11156\n"
     ]
    }
   ],
   "source": [
    "print(releases.id.unique().size,commits.id.unique().size, lines.id.unique().size, files.id.unique().size)"
   ]
  },
  {
   "cell_type": "code",
   "execution_count": 77,
   "metadata": {},
   "outputs": [
    {
     "data": {
      "text/plain": [
       "8587"
      ]
     },
     "execution_count": 77,
     "metadata": {},
     "output_type": "execute_result"
    }
   ],
   "source": [
    "len(df_tmp_all)"
   ]
  },
  {
   "cell_type": "code",
   "execution_count": 84,
   "metadata": {},
   "outputs": [
    {
     "name": "stderr",
     "output_type": "stream",
     "text": [
      "/usr/local/lib/python3.6/dist-packages/ipykernel_launcher.py:32: FutureWarning: The pandas.np module is deprecated and will be removed from pandas in a future version. Import numpy directly instead\n"
     ]
    },
    {
     "data": {
      "image/png": "[encoded data removed]",
      "text/plain": [
       "<Figure size 648x194.4 with 1 Axes>"
      ]
     },
     "metadata": {
      "needs_background": "light"
     },
     "output_type": "display_data"
    }
   ],
   "source": [
    "# Number of releases per project\n",
    "df_tmp_all = (releases\n",
    "              .query('release != \"initial\"')\n",
    "              .groupby(['id'])\n",
    "              .count()[['fromm']]\n",
    "              .reset_index()\n",
    "             )\n",
    "df_tmp_all['release'] =  'ALL'\n",
    "\n",
    "df_tmp = (releases\n",
    "          .groupby(['id','release'])\n",
    "          .count()[['fromm']]\n",
    "          .reset_index()\n",
    "          .query('release != \"initial\"')\n",
    "         )\n",
    "df_tmp = pd.concat([df_tmp,df_tmp_all])\n",
    "fig, axes = plt.subplots(1, 1, sharex=True, sharey=True)\n",
    "fig.set_size_inches(9,2.7)\n",
    "ax = sns.boxenplot(x=\"release\", \n",
    "                 y=\"fromm\",\n",
    "                 data=df_tmp, \n",
    "                 order = ['major','minor','patch','ALL'],\n",
    "                 palette='Set1',\n",
    "                 linewidth=1,\n",
    "                 #showfliers= False\n",
    "                  )\n",
    "ax.set(\n",
    "    xlabel='',\n",
    "    ylabel='\\# releases',\n",
    "    ylim=(0,30)\n",
    ")\n",
    "plt.yticks(pd.np.arange(0, 31, 5)) \n",
    "\n",
    "position =0\n",
    "for release in ['major','minor','patch','ALL']:\n",
    "    value = df_tmp.query('release == \"{}\"'.format(release)).fromm.median()\n",
    "    ax.annotate('{}'.format(int(value)), (position, value+2), ha='center', va='center', color='white')\n",
    "    position = position+1"
   ]
  },
  {
   "cell_type": "code",
   "execution_count": 85,
   "metadata": {},
   "outputs": [
    {
     "data": {
      "text/plain": [
       "array(['alvistack.bamboo', 'alvistack.bitbucket', 'alvistack.confluence',\n",
       "       'alvistack.crowd', 'alvistack.docker', 'alvistack.fisheye',\n",
       "       'alvistack.git', 'alvistack.jira', 'alvistack.openjdk',\n",
       "       'alvistack.python', 'brianshumate.consul',\n",
       "       'cloudalchemy.prometheus', 'dockpack.ansible_consul',\n",
       "       'gantsign.intellij', 'gofrolist.ansible_consul',\n",
       "       'jetune.bitbucket', 'jetune.jira', 'matrixcrawler.ansible_consul',\n",
       "       'nycrecords.ansible_consul', 'robertdebock.bootstrap',\n",
       "       'sampathinturi.ansible_prometheus', 't0k4rt.ansible-consul',\n",
       "       'ykhemani.ansible-consul'], dtype=object)"
      ]
     },
     "execution_count": 85,
     "metadata": {},
     "output_type": "execute_result"
    }
   ],
   "source": [
    "df_tmp.query('fromm>100 and release ==\"ALL\"').id.unique()"
   ]
  },
  {
   "cell_type": "code",
   "execution_count": 97,
   "metadata": {},
   "outputs": [
    {
     "data": {
      "text/plain": [
       "3.0"
      ]
     },
     "execution_count": 97,
     "metadata": {},
     "output_type": "execute_result"
    }
   ],
   "source": [
    "(commits\n",
    " [commits.id.isin(df_tmp.query('fromm>100 and release ==\"ALL\"').id)]\n",
    " .groupby(['id','tot'])\n",
    " .count()[['commit']]\n",
    " .reset_index()\n",
    " .commit\n",
    " .median()\n",
    ")"
   ]
  },
  {
   "cell_type": "code",
   "execution_count": 34,
   "metadata": {},
   "outputs": [
    {
     "data": {
      "text/html": [
       "<div>\n",
       "<style scoped>\n",
       "    .dataframe tbody tr th:only-of-type {\n",
       "        vertical-align: middle;\n",
       "    }\n",
       "\n",
       "    .dataframe tbody tr th {\n",
       "        vertical-align: top;\n",
       "    }\n",
       "\n",
       "    .dataframe thead th {\n",
       "        text-align: right;\n",
       "    }\n",
       "</style>\n",
       "<table border=\"1\" class=\"dataframe\">\n",
       "  <thead>\n",
       "    <tr style=\"text-align: right;\">\n",
       "      <th></th>\n",
       "      <th>id</th>\n",
       "      <th>release</th>\n",
       "      <th>fromm</th>\n",
       "    </tr>\n",
       "  </thead>\n",
       "  <tbody>\n",
       "    <tr>\n",
       "      <th>19786</th>\n",
       "      <td>purplenetwork.apache</td>\n",
       "      <td>major</td>\n",
       "      <td>8</td>\n",
       "    </tr>\n",
       "    <tr>\n",
       "      <th>8735</th>\n",
       "      <td>dev-sec.ssh-hardening</td>\n",
       "      <td>major</td>\n",
       "      <td>8</td>\n",
       "    </tr>\n",
       "    <tr>\n",
       "      <th>2094</th>\n",
       "      <td>OndrejHome.pcs-modules-2</td>\n",
       "      <td>major</td>\n",
       "      <td>8</td>\n",
       "    </tr>\n",
       "    <tr>\n",
       "      <th>11422</th>\n",
       "      <td>githubixx.kubectl</td>\n",
       "      <td>major</td>\n",
       "      <td>11</td>\n",
       "    </tr>\n",
       "    <tr>\n",
       "      <th>2085</th>\n",
       "      <td>OndrejHome.ha-cluster-pacemaker</td>\n",
       "      <td>major</td>\n",
       "      <td>12</td>\n",
       "    </tr>\n",
       "  </tbody>\n",
       "</table>\n",
       "</div>"
      ],
      "text/plain": [
       "                                    id release  fromm\n",
       "19786             purplenetwork.apache   major      8\n",
       "8735             dev-sec.ssh-hardening   major      8\n",
       "2094          OndrejHome.pcs-modules-2   major      8\n",
       "11422                githubixx.kubectl   major     11\n",
       "2085   OndrejHome.ha-cluster-pacemaker   major     12"
      ]
     },
     "execution_count": 34,
     "metadata": {},
     "output_type": "execute_result"
    }
   ],
   "source": [
    "df_tmp.query('release ==\"major\"').sort_values('fromm').tail()"
   ]
  },
  {
   "cell_type": "code",
   "execution_count": 36,
   "metadata": {},
   "outputs": [
    {
     "name": "stdout",
     "output_type": "stream",
     "text": [
      "major 1.0\n",
      "minor 2.0\n",
      "patch 3.0\n",
      "ALL 4.0\n"
     ]
    }
   ],
   "source": [
    "for r in ['major','minor','patch','ALL']:\n",
    "    print(r, df_tmp.query('release ==\"{}\"'.format(r))['fromm'].median())"
   ]
  },
  {
   "cell_type": "code",
   "execution_count": 36,
   "metadata": {},
   "outputs": [
    {
     "name": "stdout",
     "output_type": "stream",
     "text": [
      "('minor', 'major') MannwhitneyuResult(statistic=4031959.5, pvalue=2.864313014252559e-185)\n",
      "d=0.3811071386140529\n",
      "True\n",
      "('patch', 'major') MannwhitneyuResult(statistic=4216019.5, pvalue=0.0)\n",
      "d=0.5611720793904317\n",
      "True\n",
      "('patch', 'minor') MannwhitneyuResult(statistic=14594796.5, pvalue=5.909447963862502e-108)\n",
      "d=0.22753984550052225\n",
      "True\n"
     ]
    }
   ],
   "source": [
    "for r1 in ['major','minor','patch']:\n",
    "    for r2 in ['major','minor','patch']:\n",
    "        if r1<=r2:\n",
    "            continue\n",
    "        print((r1,r2),scipy.stats.mannwhitneyu(df_tmp.query('release ==\"{}\"'.format(r1))['fromm'],\n",
    "                                       df_tmp.query('release ==\"{}\"'.format(r2))['fromm']))\n",
    "        print(effect_size.cliffsDelta(df_tmp.query('release ==\"{}\"'.format(r1))['fromm'],\n",
    "                                       df_tmp.query('release ==\"{}\"'.format(r2))['fromm']))\n",
    "\n",
    "                               "
   ]
  },
  {
   "cell_type": "code",
   "execution_count": 30,
   "metadata": {},
   "outputs": [],
   "source": [
    "releases['month'] = releases['date'].apply(lambda d: str(d).split('-')[0]+'-'+str(d).split('-')[1])\n",
    "releases['year'] = releases['date'].apply(lambda d: str(d).split('-')[0])\n",
    "\n",
    "tmp_releases = (releases\n",
    "               .groupby(['id','release','year'])\n",
    "               .count()[['fromm']]\n",
    "               .reset_index()\n",
    "               .query('release != \"initial\"'))"
   ]
  },
  {
   "cell_type": "code",
   "execution_count": 31,
   "metadata": {},
   "outputs": [
    {
     "name": "stderr",
     "output_type": "stream",
     "text": [
      "/usr/local/lib/python3.6/dist-packages/ipykernel_launcher.py:18: FutureWarning: The pandas.np module is deprecated and will be removed from pandas in a future version. Import numpy directly instead\n"
     ]
    },
    {
     "data": {
      "text/plain": [
       "([<matplotlib.axis.YTick at 0x7f5d2477bf98>,\n",
       "  <matplotlib.axis.YTick at 0x7f5d2477bf28>,\n",
       "  <matplotlib.axis.YTick at 0x7f5d219a1358>,\n",
       "  <matplotlib.axis.YTick at 0x7f5d1bd271d0>,\n",
       "  <matplotlib.axis.YTick at 0x7f5d1bd27668>],\n",
       " [Text(0, 0, ''),\n",
       "  Text(0, 0, ''),\n",
       "  Text(0, 0, ''),\n",
       "  Text(0, 0, ''),\n",
       "  Text(0, 0, '')])"
      ]
     },
     "execution_count": 31,
     "metadata": {},
     "output_type": "execute_result"
    },
    {
     "data": {
      "image/png": "[encoded data removed]",
      "text/plain": [
       "<Figure size 648x194.4 with 1 Axes>"
      ]
     },
     "metadata": {
      "needs_background": "light"
     },
     "output_type": "display_data"
    }
   ],
   "source": [
    "# Number of releases per project\n",
    "fig, axes = plt.subplots(1, 1, sharex=True, sharey=True)\n",
    "fig.set_size_inches(9,2.7)\n",
    "ax = sns.boxenplot(x=\"year\", \n",
    "                 y=\"fromm\",\n",
    "                 hue = 'release',\n",
    "                 data=tmp_releases.sort_values('year'), \n",
    "                 hue_order = ['major','minor','patch'],\n",
    "                 palette='Set1',\n",
    "                 linewidth=1,\n",
    "                  )\n",
    "ax.set(\n",
    "    xlabel='',\n",
    "    ylabel='\\# releases',\n",
    "    ylim=(0,20)\n",
    ")\n",
    "ax.legend(loc='upper left')\n",
    "plt.yticks(pd.np.arange(0, 21, 5)) "
   ]
  },
  {
   "cell_type": "markdown",
   "metadata": {},
   "source": [
    "# RQ2: How much effort does it take to create role versions?\n"
   ]
  },
  {
   "cell_type": "code",
   "execution_count": 196,
   "metadata": {},
   "outputs": [
    {
     "name": "stderr",
     "output_type": "stream",
     "text": [
      "/usr/local/lib/python3.6/dist-packages/ipykernel_launcher.py:31: FutureWarning: The pandas.np module is deprecated and will be removed from pandas in a future version. Import numpy directly instead\n"
     ]
    },
    {
     "data": {
      "image/png": "[encoded data removed]",
      "text/plain": [
       "<Figure size 648x194.4 with 1 Axes>"
      ]
     },
     "metadata": {
      "needs_background": "light"
     },
     "output_type": "display_data"
    }
   ],
   "source": [
    "# Number of commits between two successive releases\n",
    "df_tmp = (commits[['repo','v1','v2','release','commit']]\n",
    "          .drop_duplicates()\n",
    "          .groupby(['repo','release','v1','v2'])\n",
    "          .count()[['commit']]\n",
    "          .reset_index()\n",
    "         )\n",
    "\n",
    "fig, axes = plt.subplots(1, 1, sharex=True, sharey=True)\n",
    "fig.set_size_inches(9,2.7)\n",
    "ax = sns.boxenplot(x=\"release\", \n",
    "                 y=\"commit\",\n",
    "                 data=df_tmp, \n",
    "                 order = ['major','minor','patch','initial'],\n",
    "                 palette='Set1',\n",
    "                 linewidth=1,\n",
    "                 #showfliers= False\n",
    "                  )\n",
    "ax.set(\n",
    "    xlabel='',\n",
    "    ylabel='number of commits',\n",
    "    ylim=(0,31)\n",
    ")\n",
    "\n",
    "position =0\n",
    "for release in ['major','minor','patch','initial']:\n",
    "    value = df_tmp.query('release == \"{}\"'.format(release)).commit.median()\n",
    "    ax.annotate('{}'.format(int(value)), (position, value+2), ha='center', va='center', color='white')\n",
    "    position = position+1\n",
    "    \n",
    "plt.yticks(pd.np.arange(0, 31, 10)) "
   ]
  },
  {
   "cell_type": "code",
   "execution_count": 191,
   "metadata": {},
   "outputs": [
    {
     "name": "stdout",
     "output_type": "stream",
     "text": [
      "major mean 11.610873395419079\n",
      "major median 5.0\n",
      "minor mean 8.455026740856788\n",
      "minor median 4.0\n",
      "patch mean 3.6926024116993075\n",
      "patch median 2.0\n",
      "initial mean 15.745697382574399\n",
      "initial median 6.0\n"
     ]
    }
   ],
   "source": [
    "for r in ['major','minor','patch','initial']:\n",
    "    print(r, 'mean', df_tmp.query('release ==\"{}\"'.format(r))['commit'].mean())\n",
    "    print(r, 'median', df_tmp.query('release ==\"{}\"'.format(r))['commit'].median())"
   ]
  },
  {
   "cell_type": "code",
   "execution_count": 39,
   "metadata": {},
   "outputs": [
    {
     "name": "stdout",
     "output_type": "stream",
     "text": [
      "('minor', 'major') MannwhitneyuResult(statistic=34376251.5, pvalue=4.2883352365912845e-11)\n",
      "d=-0.06515401356650775\n",
      "False\n",
      "('patch', 'major') MannwhitneyuResult(statistic=69895588.0, pvalue=0.0)\n",
      "d=-0.39818190815887167\n",
      "True\n",
      "('patch', 'minor') MannwhitneyuResult(statistic=351776448.5, pvalue=0.0)\n",
      "d=-0.3499138391057376\n",
      "True\n"
     ]
    }
   ],
   "source": [
    "for r1 in ['major','minor','patch']:\n",
    "    for r2 in ['major','minor','patch']:\n",
    "        if r1<=r2:\n",
    "            continue\n",
    "        print((r1,r2),scipy.stats.mannwhitneyu(df_tmp.query('release ==\"{}\"'.format(r1))['commit'],\n",
    "                                       df_tmp.query('release ==\"{}\"'.format(r2))['commit']))\n",
    "        print(effect_size.cliffsDelta(df_tmp.query('release ==\"{}\"'.format(r1))['commit'],\n",
    "                                       df_tmp.query('release ==\"{}\"'.format(r2))['commit']))\n",
    "\n",
    "                               "
   ]
  },
  {
   "cell_type": "code",
   "execution_count": null,
   "metadata": {},
   "outputs": [],
   "source": [
    "releases_commits = releases[['id','v1','v2','date','release']]\n",
    "releases_commits['previous'] = releases_commits.sort_values(['id','date']).groupby('id').release.shift(1)"
   ]
  },
  {
   "cell_type": "code",
   "execution_count": 41,
   "metadata": {},
   "outputs": [
    {
     "name": "stdout",
     "output_type": "stream",
     "text": [
      "11156 11156 11156 11156\n"
     ]
    }
   ],
   "source": [
    "print(releases.id.unique().size,commits.id.unique().size, lines.id.unique().size, files.id.unique().size)"
   ]
  },
  {
   "cell_type": "markdown",
   "metadata": {},
   "source": [
    "### Let's prepare releases dataframe: it will contain the type of the previous release"
   ]
  },
  {
   "cell_type": "code",
   "execution_count": null,
   "metadata": {},
   "outputs": [],
   "source": [
    "releases_commits = releases[['id','v1','v2','date','release']]\n",
    "\n",
    "releases_commits['previous'] = releases_commits.sort_values(['id','date']).groupby('id').release.shift(1)\n",
    "\n",
    "releases_commits.fillna('void', inplace=True)\n",
    "releases_commits.drop(['release','date'], axis=1, inplace=True)\n",
    "\n",
    "commits = (commits\n",
    "           .merge(releases_commits,\n",
    "                  on = ['id','v1','v2']\n",
    "                 )\n",
    "          )\n",
    "\n",
    "lines = (lines\n",
    "           .merge(releases_commits,\n",
    "                  on = ['id','v1','v2']\n",
    "                 )\n",
    "          )\n",
    "\n",
    "files = (files\n",
    "           .merge(releases_commits,\n",
    "                  on = ['id','v1','v2']\n",
    "                 )\n",
    "          )\n",
    "print(releases.id.unique().size,commits.id.unique().size, lines.id.unique().size, files.id.unique().size)"
   ]
  },
  {
   "cell_type": "markdown",
   "metadata": {},
   "source": [
    "#### Since we found that there are more patch and minor releases than major releases. We expect to find that it takes more commits to create a major release from an other (not successive) major release.\n",
    "\n",
    "#### For this reason, we only need to analyze the successive releases"
   ]
  },
  {
   "cell_type": "code",
   "execution_count": 197,
   "metadata": {},
   "outputs": [
    {
     "name": "stderr",
     "output_type": "stream",
     "text": [
      "/usr/local/lib/python3.6/dist-packages/ipykernel_launcher.py:38: FutureWarning: The pandas.np module is deprecated and will be removed from pandas in a future version. Import numpy directly instead\n"
     ]
    },
    {
     "data": {
      "text/plain": [
       "([<matplotlib.axis.YTick at 0x7efdef394fd0>,\n",
       "  <matplotlib.axis.YTick at 0x7efdef394f60>,\n",
       "  <matplotlib.axis.YTick at 0x7efdef371ac8>,\n",
       "  <matplotlib.axis.YTick at 0x7efdef2ba5c0>,\n",
       "  <matplotlib.axis.YTick at 0x7efdef2baa58>,\n",
       "  <matplotlib.axis.YTick at 0x7efdef2baef0>],\n",
       " [Text(0, 0, ''),\n",
       "  Text(0, 0, ''),\n",
       "  Text(0, 0, ''),\n",
       "  Text(0, 0, ''),\n",
       "  Text(0, 0, ''),\n",
       "  Text(0, 0, '')])"
      ]
     },
     "execution_count": 197,
     "metadata": {},
     "output_type": "execute_result"
    },
    {
     "data": {
      "image/png": "[encoded data removed]",
      "text/plain": [
       "<Figure size 648x180 with 1 Axes>"
      ]
     },
     "metadata": {
      "needs_background": "light"
     },
     "output_type": "display_data"
    }
   ],
   "source": [
    "# Number of commits between two successive releases\n",
    "df_tmp = (commits[['repo','v1','v2','release','commit','previous']]\n",
    "          .drop_duplicates()\n",
    "          .groupby(['repo','release','previous','v1','v2'])\n",
    "          .count()[['commit']]\n",
    "          .reset_index()\n",
    "         )\n",
    "fig, axes = plt.subplots(1, 1, sharex=True, sharey=True)\n",
    "fig.set_size_inches(9,2.5)\n",
    "ax = sns.boxenplot(x=\"previous\", \n",
    "                 y=\"commit\",\n",
    "                 hue='release',\n",
    "                 order = ['initial','patch','minor','major'],\n",
    "                 hue_order = ['major','minor','patch'],\n",
    "                 data=df_tmp, \n",
    "                 palette='Set1',\n",
    "                 linewidth=1,\n",
    "                  )\n",
    "ax.set(\n",
    "    xlabel='',\n",
    "    ylabel='number of commits',\n",
    "    ylim=(0,26)\n",
    ")\n",
    "\n",
    "for previous in ['initial','patch','minor','major']:\n",
    "    if previous == 'initial':\n",
    "        position =-0.26\n",
    "    for release in ['major','minor','patch']:\n",
    "        value = df_tmp.query('previous == \"{}\" and release == \"{}\"'.format(previous,release)).commit.median()\n",
    "        ax.annotate('{}'.format(int(value)), (position, value+2), ha='center', va='center', color='white')\n",
    "        position = position+0.26\n",
    "    position = position+0.22\n",
    "    \n",
    "ax.legend( title ='next successive release', fontsize=16, title_fontsize=16, ncol=4, bbox_to_anchor= (0.9, 1.44))\n",
    "plt.yticks(pd.np.arange(0, 26, 5)) "
   ]
  },
  {
   "cell_type": "code",
   "execution_count": 198,
   "metadata": {},
   "outputs": [
    {
     "data": {
      "text/plain": [
       "2.0"
      ]
     },
     "execution_count": 198,
     "metadata": {},
     "output_type": "execute_result"
    }
   ],
   "source": [
    "df_tmp.query('previous == \"patch\" and release == \"patch\"').commit.median()"
   ]
  },
  {
   "cell_type": "code",
   "execution_count": 199,
   "metadata": {},
   "outputs": [],
   "source": [
    "lines ['changes'] = lines['deletions'] + lines['insertions']"
   ]
  },
  {
   "cell_type": "code",
   "execution_count": 207,
   "metadata": {},
   "outputs": [
    {
     "name": "stderr",
     "output_type": "stream",
     "text": [
      "/usr/local/lib/python3.6/dist-packages/ipykernel_launcher.py:25: FutureWarning: The pandas.np module is deprecated and will be removed from pandas in a future version. Import numpy directly instead\n"
     ]
    },
    {
     "data": {
      "image/png": "[encoded data removed]",
      "text/plain": [
       "<Figure size 648x194.4 with 1 Axes>"
      ]
     },
     "metadata": {
      "needs_background": "light"
     },
     "output_type": "display_data"
    }
   ],
   "source": [
    "# Number of changes between two successive releases\n",
    "# You can try with ['insertions','deletions','changes']\n",
    "\n",
    "fig, axes = plt.subplots(1, 1, sharex=True, sharey=True)\n",
    "fig.set_size_inches(9,2.7)\n",
    "ax = sns.boxenplot(x=\"release\", \n",
    "                 y=\"changes\",\n",
    "                 data=lines, \n",
    "                 order = ['major','minor','patch','initial'],\n",
    "                 palette='Set1',\n",
    "                 linewidth=1,\n",
    "                  )\n",
    "ax.set(\n",
    "    xlabel='',\n",
    "    ylabel='number of changes',\n",
    "    ylim=(0,1201)\n",
    ")\n",
    "\n",
    "position =0\n",
    "for release in ['major','minor','patch','initial']:\n",
    "    value = lines.query('release == \"{}\"'.format(release)).changes.median()\n",
    "    ax.annotate('{}'.format(int(value)), (position, value+60), ha='center', va='center', color='white')\n",
    "    position = position+1\n",
    "    \n",
    "plt.yticks(pd.np.arange(0, 1201, 200)) "
   ]
  },
  {
   "cell_type": "code",
   "execution_count": 208,
   "metadata": {},
   "outputs": [
    {
     "name": "stdout",
     "output_type": "stream",
     "text": [
      "major mean 557.6232066448528\n",
      "major median 105.0\n",
      "minor mean 572.7453946302198\n",
      "minor median 59.0\n",
      "patch mean 138.5428033866416\n",
      "patch median 14.0\n",
      "initial mean 1029.7282179992828\n",
      "initial median 399.0\n"
     ]
    }
   ],
   "source": [
    "for r in ['major','minor','patch','initial']:\n",
    "    print(r, 'mean', lines.query('release ==\"{}\"'.format(r))['changes'].mean())\n",
    "    print(r, 'median', lines.query('release ==\"{}\"'.format(r))['changes'].median())"
   ]
  },
  {
   "cell_type": "code",
   "execution_count": 209,
   "metadata": {},
   "outputs": [
    {
     "name": "stdout",
     "output_type": "stream",
     "text": [
      "('minor', 'major') MannwhitneyuResult(statistic=29522722.0, pvalue=3.0995827197752066e-85)\n",
      "d=-0.1971434648628934\n",
      "True\n",
      "('patch', 'major') MannwhitneyuResult(statistic=49132600.5, pvalue=0.0)\n",
      "d=-0.5769563040216148\n",
      "True\n",
      "('patch', 'minor') MannwhitneyuResult(statistic=301048938.0, pvalue=0.0)\n",
      "d=-0.44365875208466427\n",
      "True\n"
     ]
    }
   ],
   "source": [
    "for r1 in ['major','minor','patch']:\n",
    "    for r2 in ['major','minor','patch']:\n",
    "        if r1<=r2:\n",
    "            continue\n",
    "        print((r1,r2),scipy.stats.mannwhitneyu(lines.query('release ==\"{}\"'.format(r1))['changes'],\n",
    "                                       lines.query('release ==\"{}\"'.format(r2))['changes']))\n",
    "        print(effect_size.cliffsDelta(lines.query('release ==\"{}\"'.format(r1))['changes'],\n",
    "                                       lines.query('release ==\"{}\"'.format(r2))['changes']))\n",
    "\n",
    "                               "
   ]
  },
  {
   "cell_type": "code",
   "execution_count": 210,
   "metadata": {},
   "outputs": [
    {
     "name": "stderr",
     "output_type": "stream",
     "text": [
      "/usr/local/lib/python3.6/dist-packages/ipykernel_launcher.py:19: FutureWarning: The pandas.np module is deprecated and will be removed from pandas in a future version. Import numpy directly instead\n"
     ]
    },
    {
     "data": {
      "text/plain": [
       "([<matplotlib.axis.YTick at 0x7efe5fb500b8>,\n",
       "  <matplotlib.axis.YTick at 0x7efe5fb50128>,\n",
       "  <matplotlib.axis.YTick at 0x7efe5fb59160>,\n",
       "  <matplotlib.axis.YTick at 0x7efe5fa94898>,\n",
       "  <matplotlib.axis.YTick at 0x7efe5fa94d30>],\n",
       " [Text(0, 0, ''),\n",
       "  Text(0, 0, ''),\n",
       "  Text(0, 0, ''),\n",
       "  Text(0, 0, ''),\n",
       "  Text(0, 0, '')])"
      ]
     },
     "execution_count": 210,
     "metadata": {},
     "output_type": "execute_result"
    },
    {
     "data": {
      "image/png": "[encoded data removed]",
      "text/plain": [
       "<Figure size 648x194.4 with 1 Axes>"
      ]
     },
     "metadata": {
      "needs_background": "light"
     },
     "output_type": "display_data"
    }
   ],
   "source": [
    "fig, axes = plt.subplots(1, 1, sharex=True, sharey=True)\n",
    "fig.set_size_inches(9,2.7)\n",
    "ax = sns.boxenplot(x=\"previous\", \n",
    "                 y='changes',\n",
    "                 hue='release',\n",
    "                 order = ['initial','patch','minor','major'],\n",
    "                 hue_order = ['major','minor','patch'],\n",
    "                 data=lines, \n",
    "                 palette='Set1',\n",
    "                 linewidth=1,\n",
    "                 #showfliers= False\n",
    "                  )\n",
    "ax.set(\n",
    "    xlabel='',\n",
    "    ylabel='number of changes',\n",
    "    ylim=(0,800)\n",
    ")\n",
    "ax.legend( title ='next successive release', ncol=4, bbox_to_anchor= (0.9, 1.4))\n",
    "plt.yticks(pd.np.arange(0, 801, 200)) \n"
   ]
  },
  {
   "cell_type": "markdown",
   "metadata": {},
   "source": [
    "# RQ2: Continue with time"
   ]
  },
  {
   "cell_type": "code",
   "execution_count": null,
   "metadata": {},
   "outputs": [],
   "source": [
    "releases_date = releases[['id','v1','v2','date','release']]\n",
    "\n",
    "releases_date['previous'] = releases_date.sort_values(['id','date']).groupby('id').release.shift(1)\n",
    "releases_date['date'] = releases_date['date'].apply(lambda x: str(x).split()[0])\n",
    "releases_date['previous_date'] = releases_date.sort_values(['id','date']).groupby('id').date.shift(1)\n",
    "\n",
    "releases_date.dropna(inplace=True)"
   ]
  },
  {
   "cell_type": "code",
   "execution_count": 212,
   "metadata": {},
   "outputs": [
    {
     "data": {
      "text/html": [
       "<div>\n",
       "<style scoped>\n",
       "    .dataframe tbody tr th:only-of-type {\n",
       "        vertical-align: middle;\n",
       "    }\n",
       "\n",
       "    .dataframe tbody tr th {\n",
       "        vertical-align: top;\n",
       "    }\n",
       "\n",
       "    .dataframe thead th {\n",
       "        text-align: right;\n",
       "    }\n",
       "</style>\n",
       "<table border=\"1\" class=\"dataframe\">\n",
       "  <thead>\n",
       "    <tr style=\"text-align: right;\">\n",
       "      <th></th>\n",
       "      <th>id</th>\n",
       "      <th>v1</th>\n",
       "      <th>v2</th>\n",
       "      <th>date</th>\n",
       "      <th>release</th>\n",
       "      <th>previous</th>\n",
       "      <th>previous_date</th>\n",
       "      <th>time</th>\n",
       "    </tr>\n",
       "  </thead>\n",
       "  <tbody>\n",
       "    <tr>\n",
       "      <th>0</th>\n",
       "      <td>030.ansible_bfg</td>\n",
       "      <td>1.0.0</td>\n",
       "      <td>1.0.1</td>\n",
       "      <td>2020-04-22</td>\n",
       "      <td>patch</td>\n",
       "      <td>initial</td>\n",
       "      <td>2020-04-21</td>\n",
       "      <td>1</td>\n",
       "    </tr>\n",
       "    <tr>\n",
       "      <th>4</th>\n",
       "      <td>030.ansible_firefox</td>\n",
       "      <td>1.0.0</td>\n",
       "      <td>1.0.1</td>\n",
       "      <td>2017-12-26</td>\n",
       "      <td>patch</td>\n",
       "      <td>initial</td>\n",
       "      <td>2017-12-25</td>\n",
       "      <td>1</td>\n",
       "    </tr>\n",
       "    <tr>\n",
       "      <th>5</th>\n",
       "      <td>030.ansible_firefox</td>\n",
       "      <td>1.0.1</td>\n",
       "      <td>1.1.0</td>\n",
       "      <td>2018-02-28</td>\n",
       "      <td>minor</td>\n",
       "      <td>patch</td>\n",
       "      <td>2017-12-26</td>\n",
       "      <td>64</td>\n",
       "    </tr>\n",
       "    <tr>\n",
       "      <th>6</th>\n",
       "      <td>030.ansible_firefox</td>\n",
       "      <td>1.1.0</td>\n",
       "      <td>1.1.1</td>\n",
       "      <td>2018-03-15</td>\n",
       "      <td>patch</td>\n",
       "      <td>minor</td>\n",
       "      <td>2018-02-28</td>\n",
       "      <td>15</td>\n",
       "    </tr>\n",
       "    <tr>\n",
       "      <th>7</th>\n",
       "      <td>030.ansible_firefox</td>\n",
       "      <td>1.1.1</td>\n",
       "      <td>2.0.0</td>\n",
       "      <td>2018-06-10</td>\n",
       "      <td>major</td>\n",
       "      <td>patch</td>\n",
       "      <td>2018-03-15</td>\n",
       "      <td>87</td>\n",
       "    </tr>\n",
       "  </tbody>\n",
       "</table>\n",
       "</div>"
      ],
      "text/plain": [
       "                    id     v1     v2       date release previous  \\\n",
       "0      030.ansible_bfg  1.0.0  1.0.1 2020-04-22   patch  initial   \n",
       "4  030.ansible_firefox  1.0.0  1.0.1 2017-12-26   patch  initial   \n",
       "5  030.ansible_firefox  1.0.1  1.1.0 2018-02-28   minor    patch   \n",
       "6  030.ansible_firefox  1.1.0  1.1.1 2018-03-15   patch    minor   \n",
       "7  030.ansible_firefox  1.1.1  2.0.0 2018-06-10   major    patch   \n",
       "\n",
       "  previous_date  time  \n",
       "0    2020-04-21     1  \n",
       "4    2017-12-25     1  \n",
       "5    2017-12-26    64  \n",
       "6    2018-02-28    15  \n",
       "7    2018-03-15    87  "
      ]
     },
     "execution_count": 212,
     "metadata": {},
     "output_type": "execute_result"
    }
   ],
   "source": [
    "releases_date['date'] = pd.to_datetime(releases_date['date'])\n",
    "releases_date['previous_date'] = pd.to_datetime(releases_date['previous_date'])\n",
    "releases_date['time'] = (releases_date['date'] - releases_date['previous_date']).dt.days\n",
    "releases_date.head()"
   ]
  },
  {
   "cell_type": "code",
   "execution_count": 213,
   "metadata": {},
   "outputs": [
    {
     "name": "stderr",
     "output_type": "stream",
     "text": [
      "/usr/local/lib/python3.6/dist-packages/ipykernel_launcher.py:20: FutureWarning: The pandas.np module is deprecated and will be removed from pandas in a future version. Import numpy directly instead\n"
     ]
    },
    {
     "data": {
      "text/plain": [
       "([<matplotlib.axis.YTick at 0x7efdea1c2da0>,\n",
       "  <matplotlib.axis.YTick at 0x7efdea1c2978>,\n",
       "  <matplotlib.axis.YTick at 0x7efdea1c5e80>,\n",
       "  <matplotlib.axis.YTick at 0x7efe5fa33438>,\n",
       "  <matplotlib.axis.YTick at 0x7efe5fa338d0>,\n",
       "  <matplotlib.axis.YTick at 0x7efe5fa33d68>],\n",
       " [Text(0, 0, ''),\n",
       "  Text(0, 0, ''),\n",
       "  Text(0, 0, ''),\n",
       "  Text(0, 0, ''),\n",
       "  Text(0, 0, ''),\n",
       "  Text(0, 0, '')])"
      ]
     },
     "execution_count": 213,
     "metadata": {},
     "output_type": "execute_result"
    },
    {
     "data": {
      "image/png": "[encoded data removed]",
      "text/plain": [
       "<Figure size 648x180 with 1 Axes>"
      ]
     },
     "metadata": {
      "needs_background": "light"
     },
     "output_type": "display_data"
    }
   ],
   "source": [
    "# Number of days to release a new version\n",
    "fig, axes = plt.subplots(1, 1, sharex=True, sharey=True)\n",
    "fig.set_size_inches(9,2.5)\n",
    "ax = sns.boxenplot(x=\"previous\", \n",
    "                 y=\"time\",\n",
    "                 hue='release',\n",
    "                 order = ['initial','patch','minor','major'],\n",
    "                 hue_order = ['major','minor','patch'],\n",
    "                 data=releases_date, \n",
    "                 palette='Set1',\n",
    "                 linewidth=1,\n",
    "                 #showfliers= False\n",
    "                  )\n",
    "ax.set(\n",
    "    xlabel='',\n",
    "    ylabel='number of days',\n",
    "    ylim=(0,1001)\n",
    ")\n",
    "ax.legend( title ='next successive release', ncol=4, bbox_to_anchor= (0.63, 1.41))\n",
    "plt.yticks(pd.np.arange(0, 1001, 200)) "
   ]
  },
  {
   "cell_type": "code",
   "execution_count": 221,
   "metadata": {},
   "outputs": [
    {
     "name": "stderr",
     "output_type": "stream",
     "text": [
      "/usr/local/lib/python3.6/dist-packages/ipykernel_launcher.py:26: FutureWarning: The pandas.np module is deprecated and will be removed from pandas in a future version. Import numpy directly instead\n"
     ]
    },
    {
     "data": {
      "image/png": "[encoded data removed]",
      "text/plain": [
       "<Figure size 648x194.4 with 1 Axes>"
      ]
     },
     "metadata": {
      "needs_background": "light"
     },
     "output_type": "display_data"
    }
   ],
   "source": [
    "# Number of days between two successive releases\n",
    "# You can try with ['insertions','deletions','changes']\n",
    "\n",
    "fig, axes = plt.subplots(1, 1, sharex=True, sharey=True)\n",
    "fig.set_size_inches(9,2.7)\n",
    "ax = sns.boxenplot(x=\"release\", \n",
    "                 y=\"time\",\n",
    "                 data=releases_date, \n",
    "                 order = ['major','minor','patch'],\n",
    "                 palette='Set1',\n",
    "                 linewidth=1,\n",
    "                 #showfliers= False\n",
    "                  )\n",
    "ax.set(\n",
    "    xlabel='',\n",
    "    ylabel='number of days',\n",
    "    ylim=(0,601)\n",
    ")\n",
    "\n",
    "position =0\n",
    "for release in ['major','minor','patch']:\n",
    "    value = releases_date.query('release == \"{}\"'.format(release)).time.median()\n",
    "    ax.annotate('{}'.format(int(value)), (position, value+30), ha='center', va='center', color='white')\n",
    "    position = position+1\n",
    "    \n",
    "plt.yticks(pd.np.arange(0, 601, 150)) "
   ]
  },
  {
   "cell_type": "code",
   "execution_count": 215,
   "metadata": {},
   "outputs": [
    {
     "name": "stdout",
     "output_type": "stream",
     "text": [
      "major mean 136.3995896383688\n",
      "major median 45.0\n",
      "minor mean 82.780660766313\n",
      "minor median 23.0\n",
      "patch mean 53.30587248615309\n",
      "patch median 14.0\n",
      "initial mean 96.93023255813954\n",
      "initial median 0.0\n"
     ]
    }
   ],
   "source": [
    "for r in ['major','minor','patch','initial']:\n",
    "    print(r, 'mean', releases_date.query('release ==\"{}\"'.format(r))['time'].mean())\n",
    "    print(r, 'median', releases_date.query('release ==\"{}\"'.format(r))['time'].median())"
   ]
  },
  {
   "cell_type": "code",
   "execution_count": 159,
   "metadata": {},
   "outputs": [
    {
     "name": "stdout",
     "output_type": "stream",
     "text": [
      "('minor', 'major') MannwhitneyuResult(statistic=29856522.5, pvalue=1.1749724518725921e-54)\n",
      "d=-0.15810213328803963\n",
      "True\n",
      "('patch', 'major') MannwhitneyuResult(statistic=78418388.5, pvalue=1.4687375407818778e-213)\n",
      "d=-0.2973575972096441\n",
      "True\n",
      "('patch', 'minor') MannwhitneyuResult(statistic=442914631.5, pvalue=7.630205177874402e-204)\n",
      "d=-0.14938481735742454\n",
      "True\n"
     ]
    }
   ],
   "source": [
    "for r1 in ['major','minor','patch']:\n",
    "    for r2 in ['major','minor','patch']:\n",
    "        if r1<=r2:\n",
    "            continue\n",
    "        print((r1,r2),scipy.stats.mannwhitneyu(releases_date.query('release ==\"{}\"'.format(r1))['time'],\n",
    "                                       releases_date.query('release ==\"{}\"'.format(r2))['time']))\n",
    "        print(effect_size.cliffsDelta(releases_date.query('release ==\"{}\"'.format(r1))['time'],\n",
    "                                       releases_date.query('release ==\"{}\"'.format(r2))['time']))\n",
    "\n",
    "                               "
   ]
  },
  {
   "cell_type": "markdown",
   "metadata": {},
   "source": [
    "# Let's focus on changed files"
   ]
  },
  {
   "cell_type": "code",
   "execution_count": 54,
   "metadata": {},
   "outputs": [],
   "source": [
    "# Let's distinguish between files and folders\n",
    "files['directory'] = files.file.apply(lambda x: x.split('/')[0])\n",
    "files['element'] = files.file.apply(lambda x: x.split('/')[-1])"
   ]
  },
  {
   "cell_type": "code",
   "execution_count": 55,
   "metadata": {},
   "outputs": [
    {
     "name": "stdout",
     "output_type": "stream",
     "text": [
      "proportion of all releases analyzed 88.221720467459\n",
      "proportion of patch releases analyzed 85.04669682324005\n",
      "proportion of minor releases analyzed 96.19001297016861\n",
      "proportion of major releases analyzed 97.60161575359757\n",
      "proportion of initial releases analyzed 99.53338119167265\n",
      "\\begin{tabular}{lrrrr}\n",
      "\\toprule\n",
      "{} &  patch &  minor &  major &   all \\\\\n",
      "directory &        &        &        &       \\\\\n",
      "\\midrule\n",
      "defaults  &   29.0 &   56.2 &   67.5 &  37.1 \\\\\n",
      "files     &    2.0 &    4.6 &    7.5 &   2.9 \\\\\n",
      "handlers  &    4.6 &   11.9 &   17.7 &   6.9 \\\\\n",
      "meta      &   22.9 &   33.7 &   54.1 &  26.9 \\\\\n",
      "molecule  &   13.1 &   16.6 &   19.7 &  14.3 \\\\\n",
      "tasks     &   47.9 &   72.4 &   78.9 &  55.0 \\\\\n",
      "templates &   15.9 &   32.7 &   37.9 &  20.8 \\\\\n",
      "tests     &    9.7 &   23.4 &   31.0 &  13.9 \\\\\n",
      "vars      &   12.8 &   23.7 &   28.6 &  16.1 \\\\\n",
      "\\bottomrule\n",
      "\\end{tabular}\n",
      "\n"
     ]
    }
   ],
   "source": [
    "# How many releases changed wich file\n",
    "result_tmp = pd.DataFrame()\n",
    "folders = ['tasks','defaults','meta','templates','vars','files','molecule','tests','handlers']\n",
    "for r in ['all','patch','minor','major','initial']:\n",
    "    if r ==\"all\":\n",
    "        mask  = files.directory.isin(folders)\n",
    "        tmp_files = files[['id','v1','v2','directory','release']][mask].query('release != \"initial\"')\n",
    "        tmp_files.drop_duplicates(inplace=True)\n",
    "        size = len(files\n",
    "                   .query('release != \"initial\"')\n",
    "                   [['id','v1','v2','release']]\n",
    "                   .drop_duplicates())\n",
    "\n",
    "        s = len(tmp_files\n",
    "                   [['id','v1','v2','release']]\n",
    "                   .drop_duplicates())\n",
    "        print('proportion of {} releases analyzed {}'.format(r, s*100/size))\n",
    "        tmp_files = tmp_files.groupby(['directory']).count()[['v1']].reset_index()\n",
    "        tmp_files['v1'] = tmp_files['v1'].apply(lambda x: round(x*100./size,1))\n",
    "        tmp_files.rename(columns={'v1':'all'}, inplace=True)\n",
    "        result_tmp = tmp_files.copy()\n",
    "    else:\n",
    "        mask  = files.directory.isin(folders)\n",
    "        tmp_files = files[['id','v1','v2','directory','release']][mask].query('release == \"'+r+'\"')\n",
    "        tmp_files.drop_duplicates(inplace=True)\n",
    "        size = len(files\n",
    "                   .query('release == \"'+r+'\"')\n",
    "                   [['id','v1','v2','release']]\n",
    "                   .drop_duplicates())\n",
    "\n",
    "        s = len(tmp_files\n",
    "                   [['id','v1','v2','release']]\n",
    "                   .drop_duplicates())\n",
    "        print('proportion of {} releases analyzed {}'.format(r, s*100/size))\n",
    "        tmp_files = tmp_files.groupby(['directory','release']).count()[['v1']].reset_index()\n",
    "        \n",
    "        tmp_files['v1'] = tmp_files['v1'].apply(lambda x: round(x*100./size,1))\n",
    "        tmp_files = pd.pivot_table(tmp_files, values='v1', index='directory',\n",
    "                        columns=['release']).reset_index()\n",
    "        result_tmp = result_tmp.merge(tmp_files, on =['directory'], how='left')\n",
    "result_tmp = result_tmp[['directory','patch','minor','major','all','initial']]\n",
    "print(result_tmp.drop('initial',axis=1).set_index('directory').to_latex())\n"
   ]
  },
  {
   "cell_type": "code",
   "execution_count": 56,
   "metadata": {},
   "outputs": [
    {
     "data": {
      "text/html": [
       "<div>\n",
       "<style scoped>\n",
       "    .dataframe tbody tr th:only-of-type {\n",
       "        vertical-align: middle;\n",
       "    }\n",
       "\n",
       "    .dataframe tbody tr th {\n",
       "        vertical-align: top;\n",
       "    }\n",
       "\n",
       "    .dataframe thead th {\n",
       "        text-align: right;\n",
       "    }\n",
       "</style>\n",
       "<table border=\"1\" class=\"dataframe\">\n",
       "  <thead>\n",
       "    <tr style=\"text-align: right;\">\n",
       "      <th></th>\n",
       "      <th>directory</th>\n",
       "      <th>initial</th>\n",
       "    </tr>\n",
       "  </thead>\n",
       "  <tbody>\n",
       "    <tr>\n",
       "      <th>0</th>\n",
       "      <td>defaults</td>\n",
       "      <td>88.2</td>\n",
       "    </tr>\n",
       "    <tr>\n",
       "      <th>1</th>\n",
       "      <td>files</td>\n",
       "      <td>17.3</td>\n",
       "    </tr>\n",
       "    <tr>\n",
       "      <th>2</th>\n",
       "      <td>handlers</td>\n",
       "      <td>60.9</td>\n",
       "    </tr>\n",
       "    <tr>\n",
       "      <th>3</th>\n",
       "      <td>meta</td>\n",
       "      <td>98.9</td>\n",
       "    </tr>\n",
       "    <tr>\n",
       "      <th>4</th>\n",
       "      <td>molecule</td>\n",
       "      <td>19.2</td>\n",
       "    </tr>\n",
       "    <tr>\n",
       "      <th>5</th>\n",
       "      <td>tasks</td>\n",
       "      <td>98.3</td>\n",
       "    </tr>\n",
       "    <tr>\n",
       "      <th>6</th>\n",
       "      <td>templates</td>\n",
       "      <td>54.7</td>\n",
       "    </tr>\n",
       "    <tr>\n",
       "      <th>7</th>\n",
       "      <td>tests</td>\n",
       "      <td>49.4</td>\n",
       "    </tr>\n",
       "    <tr>\n",
       "      <th>8</th>\n",
       "      <td>vars</td>\n",
       "      <td>54.4</td>\n",
       "    </tr>\n",
       "  </tbody>\n",
       "</table>\n",
       "</div>"
      ],
      "text/plain": [
       "   directory  initial\n",
       "0   defaults     88.2\n",
       "1      files     17.3\n",
       "2   handlers     60.9\n",
       "3       meta     98.9\n",
       "4   molecule     19.2\n",
       "5      tasks     98.3\n",
       "6  templates     54.7\n",
       "7      tests     49.4\n",
       "8       vars     54.4"
      ]
     },
     "execution_count": 56,
     "metadata": {},
     "output_type": "execute_result"
    }
   ],
   "source": [
    "result_tmp[['directory','initial']]"
   ]
  },
  {
   "cell_type": "code",
   "execution_count": 57,
   "metadata": {},
   "outputs": [
    {
     "name": "stdout",
     "output_type": "stream",
     "text": [
      "proportion of releases analyzed 82.37600178646751\n",
      "\\begin{tabular}{lrrrr}\n",
      "\\toprule\n",
      "release &  major &  minor &  patch &  total \\\\\n",
      "directory &        &        &        &        \\\\\n",
      "\\midrule\n",
      "defaults  &    3.3 &   12.9 &   20.9 &   37.1 \\\\\n",
      "meta      &    2.7 &    7.7 &   16.5 &   26.9 \\\\\n",
      "tasks     &    3.9 &   16.6 &   34.5 &   55.0 \\\\\n",
      "templates &    1.9 &    7.5 &   11.4 &   20.8 \\\\\n",
      "vars      &    1.4 &    5.4 &    9.2 &   16.0 \\\\\n",
      "\\bottomrule\n",
      "\\end{tabular}\n",
      "\n"
     ]
    }
   ],
   "source": [
    "folders = ['tasks','defaults','meta','templates','vars']\n",
    "mask  = files.directory.isin(folders)\n",
    "tmp_files = files[['id','v1','v2','directory','release']][mask].query('release != \"initial\"')\n",
    "tmp_files.drop_duplicates(inplace=True)\n",
    "size = len(files\n",
    "           .query('release != \"initial\"')\n",
    "           [['id','v1','v2','release']]\n",
    "           .drop_duplicates())\n",
    "\n",
    "s = len(tmp_files\n",
    "           [['id','v1','v2','release']]\n",
    "           .drop_duplicates())\n",
    "print('proportion of releases analyzed {}'.format(s*100/size))\n",
    "\n",
    "tmp_files = tmp_files.groupby(['directory','release']).count()[['v1']].reset_index()\n",
    "tmp_files['v1'] = tmp_files['v1'].apply(lambda x: round(x*100./size,1))\n",
    "tmp_files = pd.pivot_table(tmp_files, values='v1', index='directory',\n",
    "                    columns=['release']).reset_index()\n",
    "tmp_files['total'] = (tmp_files['major']+tmp_files['minor']+tmp_files['patch'])\n",
    "print(tmp_files.set_index('directory').to_latex())"
   ]
  },
  {
   "cell_type": "code",
   "execution_count": 58,
   "metadata": {},
   "outputs": [],
   "source": [
    "# Preparation for the venn diagram \n",
    "def prepare_venn(files, r=None):\n",
    "    folders = ['tasks','defaults','meta','templates','vars']\n",
    "    number={}\n",
    "    number['tasks']=10000\n",
    "    number['defaults']=1000\n",
    "    number['meta']=100\n",
    "    number['templates']=10\n",
    "    number['vars']=1\n",
    "\n",
    "    mask  = files.directory.isin(folders)\n",
    "    if r:\n",
    "        tmp_files = files[['id','v1','v2','directory','release']][mask].query('release == \"'+r+'\"')\n",
    "    else:\n",
    "        tmp_files = files[['id','v1','v2','directory','release']][mask].query('release != \"initial\"')\n",
    "\n",
    "    tmp_files['number'] = tmp_files['directory'].apply(lambda x: number[x])\n",
    "    tmp_files.drop_duplicates(inplace=True)    \n",
    "\n",
    "    tmp_files = pd.pivot_table(tmp_files, values='number', index=['id', 'v1','v2','release'],\n",
    "                        columns=['directory']).reset_index().fillna(0)\n",
    "\n",
    "    tmp_files['number'] = (tmp_files['defaults']+tmp_files['meta']+tmp_files['tasks']\n",
    "                           +tmp_files['templates']+tmp_files['vars']).apply(int).apply(lambda x: str(\"%05d\"%(x,)))\n",
    "\n",
    "    tmp_files = tmp_files.groupby('number').count()[['release']].reset_index()\n",
    "\n",
    "    if r:\n",
    "        size = len(files\n",
    "                   .query('release == \"'+r+'\"')\n",
    "                   [['id','v1','v2','release']]\n",
    "                   .drop_duplicates())\n",
    "    else:\n",
    "        size = len(files\n",
    "                   .query('release != \"initial\"')\n",
    "                   [['id','v1','v2','release']]\n",
    "                   .drop_duplicates())\n",
    "        \n",
    "    tmp_files['release'] = tmp_files['release'].apply(lambda x: round(x*100./size,1))\n",
    "    print('proportion of releases analyzed {}'.format(tmp_files.release.sum()))\n",
    "    \n",
    "    venn_results = dict(zip(tmp_files.number.tolist(), tmp_files.release.tolist()))\n",
    "    return venn_results"
   ]
  },
  {
   "cell_type": "code",
   "execution_count": 59,
   "metadata": {},
   "outputs": [
    {
     "name": "stderr",
     "output_type": "stream",
     "text": [
      "No handles with labels found to put in legend.\n"
     ]
    },
    {
     "name": "stdout",
     "output_type": "stream",
     "text": [
      "proportion of releases analyzed 82.30000000000001\n"
     ]
    },
    {
     "data": {
      "image/png": "[encoded data removed]",
      "text/plain": [
       "<Figure size 576x576 with 1 Axes>"
      ]
     },
     "metadata": {
      "needs_background": "light"
     },
     "output_type": "display_data"
    },
    {
     "name": "stderr",
     "output_type": "stream",
     "text": [
      "No handles with labels found to put in legend.\n"
     ]
    },
    {
     "name": "stdout",
     "output_type": "stream",
     "text": [
      "proportion of releases analyzed 78.00000000000001\n"
     ]
    },
    {
     "data": {
      "image/png": "[encoded data removed]",
      "text/plain": [
       "<Figure size 576x576 with 1 Axes>"
      ]
     },
     "metadata": {
      "needs_background": "light"
     },
     "output_type": "display_data"
    },
    {
     "name": "stderr",
     "output_type": "stream",
     "text": [
      "No handles with labels found to put in legend.\n"
     ]
    },
    {
     "name": "stdout",
     "output_type": "stream",
     "text": [
      "proportion of releases analyzed 93.2\n"
     ]
    },
    {
     "data": {
      "image/png": "[encoded data removed]",
      "text/plain": [
       "<Figure size 576x576 with 1 Axes>"
      ]
     },
     "metadata": {
      "needs_background": "light"
     },
     "output_type": "display_data"
    },
    {
     "name": "stderr",
     "output_type": "stream",
     "text": [
      "No handles with labels found to put in legend.\n"
     ]
    },
    {
     "name": "stdout",
     "output_type": "stream",
     "text": [
      "proportion of releases analyzed 96.80000000000001\n"
     ]
    },
    {
     "data": {
      "image/png": "[encoded data removed]",
      "text/plain": [
       "<Figure size 576x576 with 1 Axes>"
      ]
     },
     "metadata": {
      "needs_background": "light"
     },
     "output_type": "display_data"
    }
   ],
   "source": [
    "%matplotlib inline\n",
    "#https://github.com/tctianchi/pyvenn\n",
    "import ven as venn\n",
    "font = {'family' : 'Times New Roman',\n",
    "        'weight' : 'normal',\n",
    "        'size'   : 18}\n",
    "plt.rc('font', **font)\n",
    "for index, r in enumerate(['all','patch','minor','major']):\n",
    "    if r == 'all':\n",
    "        venn_results = prepare_venn(files)\n",
    "    else:\n",
    "        venn_results = prepare_venn(files, r)\n",
    "    fig, ax = venn.venn5(venn_results, names=folders)\n",
    "    ax.legend().remove()\n",
    "    #ax.set_title(r.upper())\n",
    "    fig.set_size_inches(6,6)\n",
    "    plt.show(fig)"
   ]
  },
  {
   "cell_type": "code",
   "execution_count": 195,
   "metadata": {},
   "outputs": [],
   "source": [
    "# Propotion of versions that touched folders\n",
    "df_tmp=(files\n",
    "        .query('directory != element') # consider only files\n",
    "        .query('release != \"initial\"') # Remove the first release\n",
    "        [['id','v1','v2','directory','release']]\n",
    "        .drop_duplicates()\n",
    "        .groupby('directory')\n",
    "        .count()\n",
    "        .sort_values('release', ascending=False)\n",
    "        [['release']]\n",
    "        .reset_index()\n",
    ")\n",
    "\n",
    "size = len(files\n",
    "     .query('release != \"initial\"') # Remove the first release\n",
    "     [['id','v1','v2','release']]\n",
    "     .drop_duplicates())\n",
    "\n",
    "df_tmp['versions'] = df_tmp.release*100./size\n",
    "list_files = df_tmp.head(8).directory"
   ]
  },
  {
   "cell_type": "code",
   "execution_count": 196,
   "metadata": {},
   "outputs": [
    {
     "data": {
      "text/html": [
       "<div>\n",
       "<style scoped>\n",
       "    .dataframe tbody tr th:only-of-type {\n",
       "        vertical-align: middle;\n",
       "    }\n",
       "\n",
       "    .dataframe tbody tr th {\n",
       "        vertical-align: top;\n",
       "    }\n",
       "\n",
       "    .dataframe thead th {\n",
       "        text-align: right;\n",
       "    }\n",
       "</style>\n",
       "<table border=\"1\" class=\"dataframe\">\n",
       "  <thead>\n",
       "    <tr style=\"text-align: right;\">\n",
       "      <th></th>\n",
       "      <th>directory</th>\n",
       "      <th>release</th>\n",
       "      <th>versions</th>\n",
       "    </tr>\n",
       "  </thead>\n",
       "  <tbody>\n",
       "    <tr>\n",
       "      <th>0</th>\n",
       "      <td>tasks</td>\n",
       "      <td>44338</td>\n",
       "      <td>54.994915</td>\n",
       "    </tr>\n",
       "    <tr>\n",
       "      <th>1</th>\n",
       "      <td>defaults</td>\n",
       "      <td>29944</td>\n",
       "      <td>37.141227</td>\n",
       "    </tr>\n",
       "    <tr>\n",
       "      <th>2</th>\n",
       "      <td>meta</td>\n",
       "      <td>21679</td>\n",
       "      <td>26.889683</td>\n",
       "    </tr>\n",
       "    <tr>\n",
       "      <th>3</th>\n",
       "      <td>templates</td>\n",
       "      <td>16789</td>\n",
       "      <td>20.824341</td>\n",
       "    </tr>\n",
       "    <tr>\n",
       "      <th>4</th>\n",
       "      <td>vars</td>\n",
       "      <td>12958</td>\n",
       "      <td>16.072536</td>\n",
       "    </tr>\n",
       "    <tr>\n",
       "      <th>5</th>\n",
       "      <td>molecule</td>\n",
       "      <td>11493</td>\n",
       "      <td>14.255414</td>\n",
       "    </tr>\n",
       "    <tr>\n",
       "      <th>6</th>\n",
       "      <td>tests</td>\n",
       "      <td>11218</td>\n",
       "      <td>13.914316</td>\n",
       "    </tr>\n",
       "    <tr>\n",
       "      <th>7</th>\n",
       "      <td>handlers</td>\n",
       "      <td>5586</td>\n",
       "      <td>6.928630</td>\n",
       "    </tr>\n",
       "    <tr>\n",
       "      <th>8</th>\n",
       "      <td>.github</td>\n",
       "      <td>3687</td>\n",
       "      <td>4.573193</td>\n",
       "    </tr>\n",
       "    <tr>\n",
       "      <th>9</th>\n",
       "      <td>files</td>\n",
       "      <td>2307</td>\n",
       "      <td>2.861502</td>\n",
       "    </tr>\n",
       "  </tbody>\n",
       "</table>\n",
       "</div>"
      ],
      "text/plain": [
       "   directory  release   versions\n",
       "0      tasks    44338  54.994915\n",
       "1   defaults    29944  37.141227\n",
       "2       meta    21679  26.889683\n",
       "3  templates    16789  20.824341\n",
       "4       vars    12958  16.072536\n",
       "5   molecule    11493  14.255414\n",
       "6      tests    11218  13.914316\n",
       "7   handlers     5586   6.928630\n",
       "8    .github     3687   4.573193\n",
       "9      files     2307   2.861502"
      ]
     },
     "execution_count": 196,
     "metadata": {},
     "output_type": "execute_result"
    }
   ],
   "source": [
    "df_tmp.head(10)"
   ]
  },
  {
   "cell_type": "code",
   "execution_count": 197,
   "metadata": {},
   "outputs": [
    {
     "data": {
      "text/plain": [
       "(80622, 80622)"
      ]
     },
     "execution_count": 197,
     "metadata": {},
     "output_type": "execute_result"
    }
   ],
   "source": [
    "len(files.query('release != \"initial\"')[['id','v1','v2']].drop_duplicates()), size"
   ]
  },
  {
   "cell_type": "code",
   "execution_count": 200,
   "metadata": {},
   "outputs": [
    {
     "data": {
      "text/plain": [
       "(0.0, 100.0)"
      ]
     },
     "execution_count": 200,
     "metadata": {},
     "output_type": "execute_result"
    },
    {
     "data": {
      "image/png": "[encoded data removed]",
      "text/plain": [
       "<Figure size 648x432 with 1 Axes>"
      ]
     },
     "metadata": {
      "needs_background": "light"
     },
     "output_type": "display_data"
    }
   ],
   "source": [
    "ax = sns.barplot(x=\"versions\", \n",
    "                 y=\"directory\", \n",
    "                 data=df_tmp.head(15), \n",
    "                 color='gray',\n",
    "                 linewidth=1)\n",
    "ax.figure.set_size_inches(9,6)\n",
    "#ax.set_xlabel(\"\")\n",
    "ax.set_xlabel('proportion of releases')\n",
    "ax.set_xlim(0,100)\n"
   ]
  },
  {
   "cell_type": "code",
   "execution_count": 205,
   "metadata": {},
   "outputs": [
    {
     "data": {
      "text/html": [
       "<div>\n",
       "<style scoped>\n",
       "    .dataframe tbody tr th:only-of-type {\n",
       "        vertical-align: middle;\n",
       "    }\n",
       "\n",
       "    .dataframe tbody tr th {\n",
       "        vertical-align: top;\n",
       "    }\n",
       "\n",
       "    .dataframe thead th {\n",
       "        text-align: right;\n",
       "    }\n",
       "</style>\n",
       "<table border=\"1\" class=\"dataframe\">\n",
       "  <thead>\n",
       "    <tr style=\"text-align: right;\">\n",
       "      <th></th>\n",
       "      <th>release</th>\n",
       "      <th>directory</th>\n",
       "      <th>id</th>\n",
       "      <th>v1</th>\n",
       "      <th>versions</th>\n",
       "    </tr>\n",
       "  </thead>\n",
       "  <tbody>\n",
       "    <tr>\n",
       "      <th>12</th>\n",
       "      <td>minor</td>\n",
       "      <td>vars</td>\n",
       "      <td>4388</td>\n",
       "      <td>18504</td>\n",
       "      <td>23.713792</td>\n",
       "    </tr>\n",
       "  </tbody>\n",
       "</table>\n",
       "</div>"
      ],
      "text/plain": [
       "   release directory    id     v1   versions\n",
       "12   minor      vars  4388  18504  23.713792"
      ]
     },
     "execution_count": 205,
     "metadata": {},
     "output_type": "execute_result"
    }
   ],
   "source": [
    "df_tmp=(files\n",
    "        .query('directory != element')\n",
    "        .query('v1 != \"4b825dc642cb6eb9a060e54bf8d69288fbee4904\"')\n",
    "        [['id','v1','v2','directory','release']]\n",
    " .drop_duplicates()\n",
    " .groupby(['release','directory'])\n",
    " .count()\n",
    " .sort_values('id', ascending=False)\n",
    " [['id']]\n",
    " .reset_index()\n",
    ")\n",
    "\n",
    "df_tmp =  df_tmp[df_tmp.directory.isin(list_files)]\n",
    "\n",
    "\n",
    "df_tmp2=(files\n",
    "        [['id','v1','v2','release']]\n",
    " .drop_duplicates()\n",
    " .groupby('release')\n",
    " .count()\n",
    " [['v1']]\n",
    " .reset_index()\n",
    ")\n",
    "\n",
    "df_tmp = (df_tmp\n",
    "          .merge(df_tmp2,\n",
    "                 on = ['release'])\n",
    "         )\n",
    "df_tmp ['versions'] = df_tmp ['id']*100./df_tmp ['v1']\n",
    "df_tmp.sample()"
   ]
  },
  {
   "cell_type": "code",
   "execution_count": 206,
   "metadata": {},
   "outputs": [
    {
     "data": {
      "text/plain": [
       "<matplotlib.legend.Legend at 0x7f9494e95898>"
      ]
     },
     "execution_count": 206,
     "metadata": {},
     "output_type": "execute_result"
    },
    {
     "data": {
      "image/png": "[encoded data removed]",
      "text/plain": [
       "<Figure size 648x432 with 1 Axes>"
      ]
     },
     "metadata": {
      "needs_background": "light"
     },
     "output_type": "display_data"
    }
   ],
   "source": [
    "ax = sns.barplot(y=\"directory\", \n",
    "                 x=\"versions\", \n",
    "                 hue = 'release',\n",
    "                 data=df_tmp, \n",
    "                 order=list_files,\n",
    "                 hue_order = ['major','minor','patch'],\n",
    "                 #color='blue'\n",
    "                )\n",
    "ax.figure.set_size_inches(9,6)\n",
    "#ax.set_xlabel(\"\")\n",
    "ax.set_xlabel('proportion of releases')\n",
    "ax.set_xlim(0,100)\n",
    "ax.legend(loc='upper right') #handles=legend_elements, "
   ]
  },
  {
   "cell_type": "markdown",
   "metadata": {},
   "source": [
    "# Comment: Use stacked barplots"
   ]
  },
  {
   "cell_type": "code",
   "execution_count": null,
   "metadata": {},
   "outputs": [],
   "source": [
    "df_tmp= files[files.directory.isin(list_files)]\n",
    "\n",
    "df_tmp['changes'] = df_tmp['insertions'] + df_tmp['deletions']\n",
    "df_tmp = df_tmp[['directory','release','changes','deletions','insertions']]"
   ]
  },
  {
   "cell_type": "code",
   "execution_count": 236,
   "metadata": {
    "scrolled": false
   },
   "outputs": [
    {
     "data": {
      "image/png": "[encoded data removed]",
      "text/plain": [
       "<Figure size 648x576 with 1 Axes>"
      ]
     },
     "metadata": {
      "needs_background": "light"
     },
     "output_type": "display_data"
    }
   ],
   "source": [
    "ax = sns.boxplot(x=\"changes\", \n",
    "                 y=\"directory\", \n",
    "                 hue='release',\n",
    "                 order = list_files,\n",
    "                 hue_order = ['major','minor','patch'],\n",
    "                 data=df_tmp,                  \n",
    "                 showfliers=False,\n",
    "                 linewidth=1)\n",
    "ax.figure.set_size_inches(9,8)\n",
    "ax.set_xlabel(\"\\# changes (deletions + insertions)\")\n",
    "ax.set_xlim(0,40)\n",
    "ax.legend(bbox_to_anchor= (0.75, 0.6), ncol=1)"
   ]
  },
  {
   "cell_type": "code",
   "execution_count": 212,
   "metadata": {},
   "outputs": [
    {
     "data": {
      "text/plain": [
       "(0.0, 40.0)"
      ]
     },
     "execution_count": 212,
     "metadata": {},
     "output_type": "execute_result"
    },
    {
     "data": {
      "image/png": "[encoded data removed]",
      "text/plain": [
       "<Figure size 648x720 with 1 Axes>"
      ]
     },
     "metadata": {
      "needs_background": "light"
     },
     "output_type": "display_data"
    }
   ],
   "source": [
    "ax = sns.boxplot(x=\"insertions\", \n",
    "                 y=\"directory\", \n",
    "                 hue='release',\n",
    "                 order = list_files,\n",
    "                 hue_order = ['major','minor','patch'],\n",
    "                 data=df_tmp, \n",
    "                 #color='blue',\n",
    "                 showfliers=False,\n",
    "                 linewidth=1)\n",
    "ax.figure.set_size_inches(9,10)\n",
    "ax.set_xlim(0,40)"
   ]
  },
  {
   "cell_type": "code",
   "execution_count": 210,
   "metadata": {},
   "outputs": [
    {
     "data": {
      "text/plain": [
       "(0.0, 60.0)"
      ]
     },
     "execution_count": 210,
     "metadata": {},
     "output_type": "execute_result"
    },
    {
     "data": {
      "image/png": "[encoded data removed]",
      "text/plain": [
       "<Figure size 648x720 with 1 Axes>"
      ]
     },
     "metadata": {
      "needs_background": "light"
     },
     "output_type": "display_data"
    }
   ],
   "source": [
    "ax = sns.boxenplot(x=\"deletions\", \n",
    "                 y=\"directory\", \n",
    "                 hue='release',\n",
    "                 order = list_files,\n",
    "                 hue_order = ['major','minor','patch'],\n",
    "                 data=df_tmp, \n",
    "                 #color='blue',\n",
    "                 showfliers=False,\n",
    "                 linewidth=1)\n",
    "ax.figure.set_size_inches(9,10)\n",
    "#ax.set_xlabel(\"\")\n",
    "#ax.set_xlabel('proportion of releases')\n",
    "ax.set_xlim(0,60)"
   ]
  },
  {
   "cell_type": "code",
   "execution_count": 75,
   "metadata": {},
   "outputs": [
    {
     "data": {
      "text/plain": [
       "(0.0, 100.0)"
      ]
     },
     "execution_count": 75,
     "metadata": {},
     "output_type": "execute_result"
    },
    {
     "data": {
      "image/png": "[encoded data removed]",
      "text/plain": [
       "<Figure size 648x432 with 1 Axes>"
      ]
     },
     "metadata": {
      "needs_background": "light"
     },
     "output_type": "display_data"
    }
   ],
   "source": [
    "# Now let's check the files that are in the root\n",
    "df_tmp=(files\n",
    "        .query('directory == element')\n",
    "        .query('v1 != \"4b825dc642cb6eb9a060e54bf8d69288fbee4904\"')\n",
    "        [['id','v1','v2','element','release']]\n",
    " .drop_duplicates()\n",
    " .groupby('element')\n",
    " .count()\n",
    " .sort_values('release', ascending=False)\n",
    " [['release']]\n",
    " .reset_index()\n",
    ")\n",
    "df_tmp['versions'] = df_tmp.release*100./len(files[['id','v1','v2','release']].query('v1 != \"4b825dc642cb6eb9a060e54bf8d69288fbee4904\"').drop_duplicates())\n",
    "list_elements = df_tmp.head(9).element\n",
    "\n",
    "ax = sns.barplot(x=\"versions\", \n",
    "                 y=\"element\", \n",
    "                 data=df_tmp.head(15), \n",
    "                 color='gray',\n",
    "                 linewidth=1)\n",
    "ax.figure.set_size_inches(9,6)\n",
    "#ax.set_xlabel(\"\")\n",
    "ax.set_xlabel('proportion of releases')\n",
    "ax.set_xlim(0,100)"
   ]
  },
  {
   "cell_type": "code",
   "execution_count": 76,
   "metadata": {},
   "outputs": [
    {
     "data": {
      "text/plain": [
       "(0.0, 100.0)"
      ]
     },
     "execution_count": 76,
     "metadata": {},
     "output_type": "execute_result"
    },
    {
     "data": {
      "image/png": "[encoded data removed]",
      "text/plain": [
       "<Figure size 648x432 with 1 Axes>"
      ]
     },
     "metadata": {
      "needs_background": "light"
     },
     "output_type": "display_data"
    }
   ],
   "source": [
    "# Now let's check all files\n",
    "df_tmp=(files\n",
    "        .query('directory != element')\n",
    "        .query('v1 != \"4b825dc642cb6eb9a060e54bf8d69288fbee4904\"')\n",
    "        [['repo','v1','v2','file','release']]\n",
    " .drop_duplicates()\n",
    " .groupby('file')\n",
    " .count()\n",
    " .sort_values('release', ascending=False)\n",
    " [['release']]\n",
    " .reset_index()\n",
    ")\n",
    "df_tmp['versions'] = df_tmp.release*100./len(files[['repo','v1','v2','release']].query('v1 != \"4b825dc642cb6eb9a060e54bf8d69288fbee4904\"').drop_duplicates())\n",
    "list_elements = df_tmp.head(15).file\n",
    "\n",
    "ax = sns.barplot(x=\"versions\", \n",
    "                 y=\"file\", \n",
    "                 data=df_tmp.head(15), \n",
    "                 color='gray',\n",
    "                 linewidth=1)\n",
    "ax.figure.set_size_inches(9,6)\n",
    "#ax.set_xlabel(\"\")\n",
    "ax.set_xlabel('proportion of releases')\n",
    "ax.set_xlim(0,100)"
   ]
  },
  {
   "cell_type": "markdown",
   "metadata": {},
   "source": [
    "# Let's check version 0.x.y"
   ]
  },
  {
   "cell_type": "code",
   "execution_count": 380,
   "metadata": {},
   "outputs": [],
   "source": [
    "releases['zero'] = releases['v2'].apply(lambda x: x.startswith('0.'))"
   ]
  },
  {
   "cell_type": "code",
   "execution_count": 381,
   "metadata": {},
   "outputs": [],
   "source": [
    "releases['date_previous'] = releases.sort_values(['id','date']).groupby('id').date.shift(1)"
   ]
  },
  {
   "cell_type": "code",
   "execution_count": 382,
   "metadata": {},
   "outputs": [],
   "source": [
    "releases_zero = releases.query('release != \"initial\"').sort_values('date_previous').dropna()"
   ]
  },
  {
   "cell_type": "code",
   "execution_count": 383,
   "metadata": {},
   "outputs": [],
   "source": [
    "releases_zero['days'] = (releases_zero['date'] - releases_zero['date_previous']).dt.days"
   ]
  },
  {
   "cell_type": "code",
   "execution_count": 384,
   "metadata": {},
   "outputs": [],
   "source": [
    "mask = releases_zero.id.isin(releases_zero.query('zero == True').id)\n",
    "releases_zero = releases_zero[mask]"
   ]
  },
  {
   "cell_type": "code",
   "execution_count": 385,
   "metadata": {},
   "outputs": [
    {
     "data": {
      "text/plain": [
       "2489"
      ]
     },
     "execution_count": 385,
     "metadata": {},
     "output_type": "execute_result"
    }
   ],
   "source": [
    "releases_zero.id.unique().size"
   ]
  },
  {
   "cell_type": "code",
   "execution_count": 386,
   "metadata": {},
   "outputs": [
    {
     "data": {
      "text/plain": [
       "497"
      ]
     },
     "execution_count": 386,
     "metadata": {},
     "output_type": "execute_result"
    }
   ],
   "source": [
    "releases_zero.query('zero==False').id.unique().size"
   ]
  },
  {
   "cell_type": "code",
   "execution_count": 388,
   "metadata": {},
   "outputs": [
    {
     "data": {
      "text/plain": [
       "[Text(0.5, 0, ''), Text(0, 0.5, 'days'), (0.0, 900.0)]"
      ]
     },
     "execution_count": 388,
     "metadata": {},
     "output_type": "execute_result"
    },
    {
     "data": {
      "image/png": "[encoded data removed]",
      "text/plain": [
       "<Figure size 648x194.4 with 1 Axes>"
      ]
     },
     "metadata": {
      "needs_background": "light"
     },
     "output_type": "display_data"
    }
   ],
   "source": [
    "fig, axes = plt.subplots(1, 1, sharex=True, sharey=True)\n",
    "fig.set_size_inches(9,2.7)\n",
    "ax = sns.boxenplot(x=\"zero\", \n",
    "                 y=\"days\",\n",
    "                 data=releases_zero, \n",
    "                 #order = ['major','minor','patch','initial'],\n",
    "                 palette='Set1',\n",
    "                 linewidth=1,\n",
    "                 #showfliers= False\n",
    "                  )\n",
    "ax.set(\n",
    "    xlabel='',\n",
    "    ylabel='days',\n",
    "    ylim=(0,900)\n",
    ")"
   ]
  },
  {
   "cell_type": "code",
   "execution_count": 389,
   "metadata": {},
   "outputs": [
    {
     "name": "stdout",
     "output_type": "stream",
     "text": [
      "Mannwhitney U test\n",
      "Cliff's Delta\n",
      "d=-0.08790836100880035\n"
     ]
    },
    {
     "data": {
      "text/plain": [
       "False"
      ]
     },
     "execution_count": 389,
     "metadata": {},
     "output_type": "execute_result"
    }
   ],
   "source": [
    "print('Mannwhitney U test')\n",
    "scipy.stats.mannwhitneyu(releases_zero.query('zero == True').days,\n",
    "                         releases_zero.query('zero == False').days)\n",
    "print(\"Cliff's Delta\")\n",
    "effect_size.cliffsDelta(releases_zero.query('zero == True').days,\n",
    "                         releases_zero.query('zero == False').days)"
   ]
  },
  {
   "cell_type": "markdown",
   "metadata": {},
   "source": [
    "#### Apparently there is no big difference between 0.x.y versions and the other versions"
   ]
  },
  {
   "cell_type": "markdown",
   "metadata": {},
   "source": [
    "# Let's check the number of version per category\n",
    "\n",
    "We check whether some categories release more often"
   ]
  },
  {
   "cell_type": "code",
   "execution_count": 281,
   "metadata": {},
   "outputs": [
    {
     "data": {
      "text/html": [
       "<div>\n",
       "<style scoped>\n",
       "    .dataframe tbody tr th:only-of-type {\n",
       "        vertical-align: middle;\n",
       "    }\n",
       "\n",
       "    .dataframe tbody tr th {\n",
       "        vertical-align: top;\n",
       "    }\n",
       "\n",
       "    .dataframe thead th {\n",
       "        text-align: right;\n",
       "    }\n",
       "</style>\n",
       "<table border=\"1\" class=\"dataframe\">\n",
       "  <thead>\n",
       "    <tr style=\"text-align: right;\">\n",
       "      <th></th>\n",
       "      <th>tag</th>\n",
       "      <th>role_id</th>\n",
       "    </tr>\n",
       "  </thead>\n",
       "  <tbody>\n",
       "    <tr>\n",
       "      <th>0</th>\n",
       "      <td>database</td>\n",
       "      <td>bennojoy.mysql</td>\n",
       "    </tr>\n",
       "    <tr>\n",
       "      <th>1</th>\n",
       "      <td>sql</td>\n",
       "      <td>bennojoy.mysql</td>\n",
       "    </tr>\n",
       "  </tbody>\n",
       "</table>\n",
       "</div>"
      ],
      "text/plain": [
       "        tag         role_id\n",
       "0  database  bennojoy.mysql\n",
       "1       sql  bennojoy.mysql"
      ]
     },
     "execution_count": 281,
     "metadata": {},
     "output_type": "execute_result"
    }
   ],
   "source": [
    "tags = pd.read_csv('../data/tags_and_roles.csv.gz')\n",
    "tags.head(2)"
   ]
  },
  {
   "cell_type": "code",
   "execution_count": 284,
   "metadata": {},
   "outputs": [
    {
     "data": {
      "text/plain": [
       "(22917, 11158)"
      ]
     },
     "execution_count": 284,
     "metadata": {},
     "output_type": "execute_result"
    }
   ],
   "source": [
    "tags.role_id.unique().size, releases.id.unique().size"
   ]
  },
  {
   "cell_type": "code",
   "execution_count": 283,
   "metadata": {},
   "outputs": [
    {
     "data": {
      "text/html": [
       "<div>\n",
       "<style scoped>\n",
       "    .dataframe tbody tr th:only-of-type {\n",
       "        vertical-align: middle;\n",
       "    }\n",
       "\n",
       "    .dataframe tbody tr th {\n",
       "        vertical-align: top;\n",
       "    }\n",
       "\n",
       "    .dataframe thead th {\n",
       "        text-align: right;\n",
       "    }\n",
       "</style>\n",
       "<table border=\"1\" class=\"dataframe\">\n",
       "  <thead>\n",
       "    <tr style=\"text-align: right;\">\n",
       "      <th></th>\n",
       "      <th>id</th>\n",
       "      <th>v1</th>\n",
       "      <th>v2</th>\n",
       "      <th>date</th>\n",
       "      <th>fromm</th>\n",
       "      <th>tot</th>\n",
       "      <th>release</th>\n",
       "    </tr>\n",
       "  </thead>\n",
       "  <tbody>\n",
       "    <tr>\n",
       "      <th>0</th>\n",
       "      <td>030.ansible_bfg</td>\n",
       "      <td>1.0.0</td>\n",
       "      <td>1.0.1</td>\n",
       "      <td>2020-04-22 10:25:51</td>\n",
       "      <td>1.0.0</td>\n",
       "      <td>1.0.1</td>\n",
       "      <td>patch</td>\n",
       "    </tr>\n",
       "    <tr>\n",
       "      <th>1</th>\n",
       "      <td>030.ansible_bfg</td>\n",
       "      <td>4b825dc642cb6eb9a060e54bf8d69288fbee4904</td>\n",
       "      <td>1.0.0</td>\n",
       "      <td>2020-04-21 21:52:18</td>\n",
       "      <td>first commit</td>\n",
       "      <td>1.0.0</td>\n",
       "      <td>initial</td>\n",
       "    </tr>\n",
       "  </tbody>\n",
       "</table>\n",
       "</div>"
      ],
      "text/plain": [
       "                id                                        v1     v2  \\\n",
       "0  030.ansible_bfg                                     1.0.0  1.0.1   \n",
       "1  030.ansible_bfg  4b825dc642cb6eb9a060e54bf8d69288fbee4904  1.0.0   \n",
       "\n",
       "                 date         fromm    tot  release  \n",
       "0 2020-04-22 10:25:51         1.0.0  1.0.1    patch  \n",
       "1 2020-04-21 21:52:18  first commit  1.0.0  initial  "
      ]
     },
     "execution_count": 283,
     "metadata": {},
     "output_type": "execute_result"
    }
   ],
   "source": [
    "releases.head(2)"
   ]
  },
  {
   "cell_type": "code",
   "execution_count": 358,
   "metadata": {},
   "outputs": [
    {
     "name": "stdout",
     "output_type": "stream",
     "text": [
      "system 4.0\n",
      "development 5.0\n",
      "web 6.0\n",
      "monitoring 4.5\n",
      "networking 5.0\n",
      "database 5.0\n",
      "cloud 4.0\n",
      "packaging 5.0\n",
      "docker 4.0\n",
      "ubuntu 3.0\n",
      "security 3.0\n",
      "server 5.0\n",
      "centos 4.0\n",
      "debian 3.0\n",
      "php 6.0\n",
      "java 6.0\n",
      "nginx 5.0\n",
      "sql 8.0\n",
      "python 4.0\n",
      "ssh 3.0\n",
      "mysql 4.0\n",
      "prometheus 3.0\n",
      "linux 2.0\n",
      "aws 2.0\n",
      "kubernetes 3.0\n",
      "logging 5.0\n",
      "postgresql 4.5\n",
      "clustering 4.0\n",
      "nosql 5.0\n",
      "ssl 4.0\n"
     ]
    }
   ],
   "source": [
    "num_releases = (releases[['id','v1','v2','release']]\n",
    "                .drop_duplicates()\n",
    "                .rename(columns={'id':'role_id'})\n",
    "                .groupby('role_id')\n",
    "                .count()[['release']]\n",
    "                .reset_index()\n",
    "                .merge(tags,\n",
    "                       on = ['role_id']\n",
    "                      )\n",
    "               )\n",
    "for x in num_releases.groupby('tag').count()[['role_id']].sort_values('role_id', ascending=False).head(30).index.tolist():\n",
    "    print(x, num_releases.query('tag ==\"{}\"'.format(x)).release.median())"
   ]
  },
  {
   "cell_type": "code",
   "execution_count": 359,
   "metadata": {},
   "outputs": [
    {
     "name": "stdout",
     "output_type": "stream",
     "text": [
      "____________ system ____________\n",
      "patch 4.0\n",
      "minor 2.0\n",
      "major 1.0\n",
      "____________ development ____________\n",
      "patch 5.0\n",
      "minor 3.0\n",
      "major 1.0\n",
      "____________ web ____________\n",
      "patch 6.0\n",
      "minor 3.0\n",
      "major 1.0\n",
      "____________ monitoring ____________\n",
      "patch 4.0\n",
      "minor 2.0\n",
      "major 1.0\n",
      "____________ networking ____________\n",
      "patch 5.0\n",
      "minor 2.0\n",
      "major 1.0\n",
      "____________ database ____________\n",
      "patch 5.0\n",
      "minor 3.0\n",
      "major 1.0\n",
      "____________ cloud ____________\n",
      "patch 3.0\n",
      "minor 2.0\n",
      "major 1.0\n",
      "____________ packaging ____________\n",
      "patch 4.0\n",
      "minor 3.0\n",
      "major 1.0\n",
      "____________ docker ____________\n",
      "patch 4.0\n",
      "minor 2.0\n",
      "major 1.0\n",
      "____________ ubuntu ____________\n",
      "patch 3.0\n",
      "minor 3.0\n",
      "major 1.0\n"
     ]
    }
   ],
   "source": [
    "num_releases2 = (releases[['id','v1','v2','release']]\n",
    "                .drop_duplicates()\n",
    "                .rename(columns={'id':'role_id'})\n",
    "                .groupby(['role_id','release'])\n",
    "                .count()[['v1']]\n",
    "                .reset_index()\n",
    "                .merge(tags,\n",
    "                       on = ['role_id']\n",
    "                      )\n",
    "               )\n",
    "for x in num_releases.groupby('tag').count()[['role_id']].sort_values('role_id', ascending=False).head(10).index.tolist():\n",
    "    print('____________',x,'____________')\n",
    "    for y in ['patch','minor','major']:\n",
    "        print(y, num_releases2.query('tag ==\"{}\" and release ==\"{}\"'.format(x,y)).v1.median())"
   ]
  },
  {
   "cell_type": "code",
   "execution_count": 338,
   "metadata": {},
   "outputs": [
    {
     "data": {
      "text/plain": [
       "10287"
      ]
     },
     "execution_count": 338,
     "metadata": {},
     "output_type": "execute_result"
    }
   ],
   "source": [
    "num_releases.release.sum()"
   ]
  },
  {
   "cell_type": "code",
   "execution_count": 367,
   "metadata": {},
   "outputs": [
    {
     "name": "stdout",
     "output_type": "stream",
     "text": [
      "88442\n"
     ]
    },
    {
     "data": {
      "text/plain": [
       "0.6599805522263178"
      ]
     },
     "execution_count": 367,
     "metadata": {},
     "output_type": "execute_result"
    }
   ],
   "source": [
    "tmp = num_releases.drop('tag', axis=1).drop_duplicates()\n",
    "print(tmp.release.sum())\n",
    "a = tmp.release.quantile(0.8) \n",
    "tmp.query('release > {}'.format(a)).release.sum()/tmp.release.sum()\n"
   ]
  },
  {
   "cell_type": "code",
   "execution_count": 365,
   "metadata": {},
   "outputs": [
    {
     "name": "stdout",
     "output_type": "stream",
     "text": [
      "88442\n",
      "patch 0.6572947388870247\n",
      "minor 0.5575945793337098\n",
      "major 0.2990580847723705\n"
     ]
    }
   ],
   "source": [
    "print(num_releases2.drop('tag',axis=1).drop_duplicates().v1.sum())\n",
    "\n",
    "for r in ['patch','minor','major']:\n",
    "    tmp = num_releases2.drop('tag',axis=1).query('release == \"{}\"'.format(r)).drop_duplicates()\n",
    "    print(r, tmp.query('v1 > {}'.format(tmp.v1.quantile(0.8) )).v1.sum()/tmp.v1.sum())\n"
   ]
  },
  {
   "cell_type": "code",
   "execution_count": 325,
   "metadata": {},
   "outputs": [
    {
     "data": {
      "text/plain": [
       "0.3439807031649733"
      ]
     },
     "execution_count": 325,
     "metadata": {},
     "output_type": "execute_result"
    }
   ],
   "source": [
    "a = num_releases2.query('release == \"major\"').v1.quantile(0.8) \n",
    "num_releases2.query('release == \"major\"').query('v1 > {}'.format(a)).v1.sum()/num_releases2.query('release == \"major\"').v1.sum()"
   ]
  },
  {
   "cell_type": "code",
   "execution_count": 327,
   "metadata": {},
   "outputs": [
    {
     "data": {
      "text/plain": [
       "0.6456458709597895"
      ]
     },
     "execution_count": 327,
     "metadata": {},
     "output_type": "execute_result"
    }
   ],
   "source": [
    "a = num_releases2.query('release == \"patch\"').v1.quantile(0.8) \n",
    "num_releases2.query('release == \"patch\"').query('v1 > {}'.format(a)).v1.sum()/num_releases2.query('release == \"patch\"').v1.sum()\n"
   ]
  },
  {
   "cell_type": "code",
   "execution_count": 328,
   "metadata": {},
   "outputs": [
    {
     "data": {
      "text/plain": [
       "0.558703463037994"
      ]
     },
     "execution_count": 328,
     "metadata": {},
     "output_type": "execute_result"
    }
   ],
   "source": [
    "a = num_releases2.query('release == \"minor\"').v1.quantile(0.8) \n",
    "num_releases2.query('release == \"minor\"').query('v1 > {}'.format(a)).v1.sum()/num_releases2.query('release == \"minor\"').v1.sum()\n"
   ]
  },
  {
   "cell_type": "code",
   "execution_count": 329,
   "metadata": {},
   "outputs": [
    {
     "data": {
      "text/plain": [
       "0.0"
      ]
     },
     "execution_count": 329,
     "metadata": {},
     "output_type": "execute_result"
    }
   ],
   "source": [
    "a = num_releases2.query('release == \"initial\"').v1.quantile(0.8) \n",
    "num_releases2.query('release == \"initial\"').query('v1 > {}'.format(a)).v1.sum()/num_releases2.query('release == \"initial\"').v1.sum()\n"
   ]
  },
  {
   "cell_type": "code",
   "execution_count": null,
   "metadata": {},
   "outputs": [],
   "source": []
  }
 ],
 "metadata": {
  "kernelspec": {
   "display_name": "Python 3",
   "language": "python",
   "name": "python3"
  },
  "language_info": {
   "codemirror_mode": {
    "name": "ipython",
    "version": 3
   },
   "file_extension": ".py",
   "mimetype": "text/x-python",
   "name": "python",
   "nbconvert_exporter": "python",
   "pygments_lexer": "ipython3",
   "version": "3.6.9"
  }
 },
 "nbformat": 4,
 "nbformat_minor": 2
}
